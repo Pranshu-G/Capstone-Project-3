{
 "cells": [
  {
   "cell_type": "code",
   "execution_count": 1,
   "metadata": {},
   "outputs": [
    {
     "name": "stdout",
     "output_type": "stream",
     "text": [
      "pyspark: /usr/local/spark/bin/pyspark.cmd /usr/local/spark/bin/pyspark /usr/local/spark/bin/pyspark2.cmd\r\n"
     ]
    }
   ],
   "source": [
    "!whereis pyspark"
   ]
  },
  {
   "cell_type": "code",
   "execution_count": 2,
   "metadata": {},
   "outputs": [],
   "source": [
    "import findspark\n",
    "findspark.init('/usr/local/spark')"
   ]
  },
  {
   "cell_type": "code",
   "execution_count": 3,
   "metadata": {},
   "outputs": [],
   "source": [
    "import pyspark"
   ]
  },
  {
   "cell_type": "code",
   "execution_count": 4,
   "metadata": {},
   "outputs": [],
   "source": [
    "from pyspark.sql import SparkSession\n",
    "spark = SparkSession.builder.appName(\"Python Spark SQL\") \\\n",
    "        .config(\"spark.sql.warehouse.dir\", \"hdfs://localhost:54310/user/hive/warehouse\") \\\n",
    "        .enableHiveSupport() \n",
    "        .getOrCreate()"
   ]
  },
  {
   "cell_type": "code",
   "execution_count": 6,
   "metadata": {
    "scrolled": true
   },
   "outputs": [
    {
     "name": "stdout",
     "output_type": "stream",
     "text": [
      "+------------+\n",
      "|databaseName|\n",
      "+------------+\n",
      "|          db|\n",
      "|     default|\n",
      "|    deloitte|\n",
      "+------------+\n",
      "\n"
     ]
    }
   ],
   "source": [
    "spark.sql('Show Databases').show()"
   ]
  },
  {
   "cell_type": "code",
   "execution_count": 23,
   "metadata": {},
   "outputs": [
    {
     "data": {
      "text/plain": [
       "DataFrame[]"
      ]
     },
     "execution_count": 23,
     "metadata": {},
     "output_type": "execute_result"
    }
   ],
   "source": [
    "spark.sql('CREATE DATABASE if not exists db')\n",
    "    \n",
    "\n"
   ]
  },
  {
   "cell_type": "code",
   "execution_count": 24,
   "metadata": {},
   "outputs": [
    {
     "name": "stdout",
     "output_type": "stream",
     "text": [
      "+------------+\n",
      "|databaseName|\n",
      "+------------+\n",
      "|          db|\n",
      "|     default|\n",
      "|    deloitte|\n",
      "+------------+\n",
      "\n"
     ]
    }
   ],
   "source": [
    "spark.sql('Show databases').show()"
   ]
  },
  {
   "cell_type": "code",
   "execution_count": 30,
   "metadata": {},
   "outputs": [
    {
     "data": {
      "text/plain": [
       "DataFrame[]"
      ]
     },
     "execution_count": 30,
     "metadata": {},
     "output_type": "execute_result"
    }
   ],
   "source": [
    "spark.sql('use db')"
   ]
  },
  {
   "cell_type": "code",
   "execution_count": 32,
   "metadata": {},
   "outputs": [
    {
     "data": {
      "text/plain": [
       "DataFrame[summary: string, _c0: string, _c1: string, _c2: string, _c3: string, _c4: string, _c5: string, _c6: string, _c7: string, _c8: string, _c9: string, _c10: string, _c11: string, _c12: string, _c13: string, _c14: string, _c15: string]"
      ]
     },
     "execution_count": 32,
     "metadata": {},
     "output_type": "execute_result"
    }
   ],
   "source": [
    "df.describe()"
   ]
  },
  {
   "cell_type": "code",
   "execution_count": 33,
   "metadata": {},
   "outputs": [
    {
     "name": "stdout",
     "output_type": "stream",
     "text": [
      "+---------+----------+----------+\n",
      "|      _c0|       _c1|       _c2|\n",
      "+---------+----------+----------+\n",
      "|City_Code| City_Name|State_Code|\n",
      "|     CT01|    Mumbai|      ST15|\n",
      "|     CT02|      Pune|      ST15|\n",
      "|     CT03|   Chennai|      ST24|\n",
      "|     CT04|Coimbatore|      ST24|\n",
      "+---------+----------+----------+\n",
      "only showing top 5 rows\n",
      "\n"
     ]
    }
   ],
   "source": [
    "df1 = spark.read.csv('City_Master.csv')\n",
    "df1.show(5)"
   ]
  },
  {
   "cell_type": "code",
   "execution_count": 42,
   "metadata": {},
   "outputs": [],
   "source": [
    "df1.createOrReplaceTempView('City_Master')\n"
   ]
  },
  {
   "cell_type": "code",
   "execution_count": 84,
   "metadata": {},
   "outputs": [
    {
     "name": "stdout",
     "output_type": "stream",
     "text": [
      "+--------+--------------------+-----------+\n",
      "|database|           tableName|isTemporary|\n",
      "+--------+--------------------+-----------+\n",
      "|      db|car_sales_transac...|      false|\n",
      "|      db|         city_master|      false|\n",
      "+--------+--------------------+-----------+\n",
      "\n"
     ]
    }
   ],
   "source": [
    "spark.sql('show tables from db').show()"
   ]
  },
  {
   "cell_type": "code",
   "execution_count": 86,
   "metadata": {},
   "outputs": [
    {
     "data": {
      "text/plain": [
       "DataFrame[]"
      ]
     },
     "execution_count": 86,
     "metadata": {},
     "output_type": "execute_result"
    }
   ],
   "source": [
    "spark.sql('drop table Car_Sales_Transactions')"
   ]
  },
  {
   "cell_type": "code",
   "execution_count": 87,
   "metadata": {},
   "outputs": [
    {
     "data": {
      "text/plain": [
       "DataFrame[]"
      ]
     },
     "execution_count": 87,
     "metadata": {},
     "output_type": "execute_result"
    }
   ],
   "source": [
    "spark.sql('drop table City_Master')"
   ]
  },
  {
   "cell_type": "code",
   "execution_count": 44,
   "metadata": {},
   "outputs": [
    {
     "name": "stdout",
     "output_type": "stream",
     "text": [
      "+---------+------------+----------+\n",
      "|      _c0|         _c1|       _c2|\n",
      "+---------+------------+----------+\n",
      "|City_Code|   City_Name|State_Code|\n",
      "|     CT01|      Mumbai|      ST15|\n",
      "|     CT02|        Pune|      ST15|\n",
      "|     CT03|     Chennai|      ST24|\n",
      "|     CT04|  Coimbatore|      ST24|\n",
      "|     CT05|   Hyderabad|      ST25|\n",
      "|     CT06|      Jaipur|      ST22|\n",
      "|     CT07|       Kochi|      ST13|\n",
      "|     CT08|     Kolkata|      ST29|\n",
      "|     CT09|       Delhi|      ST34|\n",
      "|     CT10|   Bangalore|      ST12|\n",
      "|     CT11|   Ahmedabad|      ST07|\n",
      "|     CT12|       Noida|      ST28|\n",
      "|     CT13|       Patna|      ST04|\n",
      "|     CT14|       Surat|      ST07|\n",
      "|     CT15|Bhubaneshwar|      ST20|\n",
      "|     CT16|     Gangtok|      ST23|\n",
      "|     CT17|    Vadodara|      ST07|\n",
      "|     CT18|    Ludhiana|      ST21|\n",
      "|     CT19|      Mysore|      ST12|\n",
      "+---------+------------+----------+\n",
      "only showing top 20 rows\n",
      "\n"
     ]
    }
   ],
   "source": [
    "spark.sql('select * from City_Master').show()"
   ]
  },
  {
   "cell_type": "code",
   "execution_count": 45,
   "metadata": {},
   "outputs": [],
   "source": []
  },
  {
   "cell_type": "code",
   "execution_count": 68,
   "metadata": {},
   "outputs": [],
   "source": [
    "Car_Sales_df = spark.read.csv('Car_sales_transactions.csv')"
   ]
  },
  {
   "cell_type": "code",
   "execution_count": 74,
   "metadata": {},
   "outputs": [],
   "source": [
    "Car_Sales_df.write.mode('overwrite').saveAsTable('db.Car_Sales_Transactions')"
   ]
  },
  {
   "cell_type": "code",
   "execution_count": 80,
   "metadata": {},
   "outputs": [
    {
     "name": "stdout",
     "output_type": "stream",
     "text": [
      "root\n",
      " |-- _c0: string (nullable = true)\n",
      " |-- _c1: string (nullable = true)\n",
      " |-- _c2: string (nullable = true)\n",
      " |-- _c3: string (nullable = true)\n",
      " |-- _c4: string (nullable = true)\n",
      " |-- _c5: string (nullable = true)\n",
      " |-- _c6: string (nullable = true)\n",
      " |-- _c7: string (nullable = true)\n",
      " |-- _c8: string (nullable = true)\n",
      " |-- _c9: string (nullable = true)\n",
      " |-- _c10: string (nullable = true)\n",
      " |-- _c11: string (nullable = true)\n",
      " |-- _c12: string (nullable = true)\n",
      " |-- _c13: string (nullable = true)\n",
      " |-- _c14: string (nullable = true)\n",
      " |-- _c15: string (nullable = true)\n",
      "\n"
     ]
    }
   ],
   "source": [
    "query1 = spark.sql('select * from Car_Sales_Transactions')\n",
    "query1.printSchema()"
   ]
  },
  {
   "cell_type": "code",
   "execution_count": 79,
   "metadata": {},
   "outputs": [
    {
     "ename": "AnalysisException",
     "evalue": "\"cannot resolve '`city_code`' given input columns: [_c1, _c13, _c5, _c3, _c0, _c8, _c11, _c12, _c9, _c2, _c14, _c15, _c4, _c10, _c7, _c6]; line 1 pos 46;\\n'Project [*]\\n+- 'Filter ('city_code = 'CT01)\\n   +- SubqueryAlias car_sales_transactions\\n      +- Relation[_c0#2058,_c1#2059,_c2#2060,_c3#2061,_c4#2062,_c5#2063,_c6#2064,_c7#2065,_c8#2066,_c9#2067,_c10#2068,_c11#2069,_c12#2070,_c13#2071,_c14#2072,_c15#2073] parquet\\n\"",
     "output_type": "error",
     "traceback": [
      "\u001b[0;31m---------------------------------------------------------------------------\u001b[0m",
      "\u001b[0;31mPy4JJavaError\u001b[0m                             Traceback (most recent call last)",
      "\u001b[0;32m/usr/local/spark/python/pyspark/sql/utils.py\u001b[0m in \u001b[0;36mdeco\u001b[0;34m(*a, **kw)\u001b[0m\n\u001b[1;32m     62\u001b[0m         \u001b[0;32mtry\u001b[0m\u001b[0;34m:\u001b[0m\u001b[0;34m\u001b[0m\u001b[0m\n\u001b[0;32m---> 63\u001b[0;31m             \u001b[0;32mreturn\u001b[0m \u001b[0mf\u001b[0m\u001b[0;34m(\u001b[0m\u001b[0;34m*\u001b[0m\u001b[0ma\u001b[0m\u001b[0;34m,\u001b[0m \u001b[0;34m**\u001b[0m\u001b[0mkw\u001b[0m\u001b[0;34m)\u001b[0m\u001b[0;34m\u001b[0m\u001b[0m\n\u001b[0m\u001b[1;32m     64\u001b[0m         \u001b[0;32mexcept\u001b[0m \u001b[0mpy4j\u001b[0m\u001b[0;34m.\u001b[0m\u001b[0mprotocol\u001b[0m\u001b[0;34m.\u001b[0m\u001b[0mPy4JJavaError\u001b[0m \u001b[0;32mas\u001b[0m \u001b[0me\u001b[0m\u001b[0;34m:\u001b[0m\u001b[0;34m\u001b[0m\u001b[0m\n",
      "\u001b[0;32m/usr/local/spark/python/lib/py4j-0.10.7-src.zip/py4j/protocol.py\u001b[0m in \u001b[0;36mget_return_value\u001b[0;34m(answer, gateway_client, target_id, name)\u001b[0m\n\u001b[1;32m    327\u001b[0m                     \u001b[0;34m\"An error occurred while calling {0}{1}{2}.\\n\"\u001b[0m\u001b[0;34m.\u001b[0m\u001b[0;34m\u001b[0m\u001b[0m\n\u001b[0;32m--> 328\u001b[0;31m                     format(target_id, \".\", name), value)\n\u001b[0m\u001b[1;32m    329\u001b[0m             \u001b[0;32melse\u001b[0m\u001b[0;34m:\u001b[0m\u001b[0;34m\u001b[0m\u001b[0m\n",
      "\u001b[0;31mPy4JJavaError\u001b[0m: An error occurred while calling o28.sql.\n: org.apache.spark.sql.AnalysisException: cannot resolve '`city_code`' given input columns: [_c1, _c13, _c5, _c3, _c0, _c8, _c11, _c12, _c9, _c2, _c14, _c15, _c4, _c10, _c7, _c6]; line 1 pos 46;\n'Project [*]\n+- 'Filter ('city_code = 'CT01)\n   +- SubqueryAlias car_sales_transactions\n      +- Relation[_c0#2058,_c1#2059,_c2#2060,_c3#2061,_c4#2062,_c5#2063,_c6#2064,_c7#2065,_c8#2066,_c9#2067,_c10#2068,_c11#2069,_c12#2070,_c13#2071,_c14#2072,_c15#2073] parquet\n\n\tat org.apache.spark.sql.catalyst.analysis.package$AnalysisErrorAt.failAnalysis(package.scala:42)\n\tat org.apache.spark.sql.catalyst.analysis.CheckAnalysis$$anonfun$checkAnalysis$1$$anonfun$apply$2.applyOrElse(CheckAnalysis.scala:88)\n\tat org.apache.spark.sql.catalyst.analysis.CheckAnalysis$$anonfun$checkAnalysis$1$$anonfun$apply$2.applyOrElse(CheckAnalysis.scala:85)\n\tat org.apache.spark.sql.catalyst.trees.TreeNode$$anonfun$transformUp$1.apply(TreeNode.scala:289)\n\tat org.apache.spark.sql.catalyst.trees.TreeNode$$anonfun$transformUp$1.apply(TreeNode.scala:289)\n\tat org.apache.spark.sql.catalyst.trees.CurrentOrigin$.withOrigin(TreeNode.scala:70)\n\tat org.apache.spark.sql.catalyst.trees.TreeNode.transformUp(TreeNode.scala:288)\n\tat org.apache.spark.sql.catalyst.trees.TreeNode$$anonfun$3.apply(TreeNode.scala:286)\n\tat org.apache.spark.sql.catalyst.trees.TreeNode$$anonfun$3.apply(TreeNode.scala:286)\n\tat org.apache.spark.sql.catalyst.trees.TreeNode$$anonfun$4.apply(TreeNode.scala:306)\n\tat org.apache.spark.sql.catalyst.trees.TreeNode.mapProductIterator(TreeNode.scala:187)\n\tat org.apache.spark.sql.catalyst.trees.TreeNode.mapChildren(TreeNode.scala:304)\n\tat org.apache.spark.sql.catalyst.trees.TreeNode.transformUp(TreeNode.scala:286)\n\tat org.apache.spark.sql.catalyst.plans.QueryPlan$$anonfun$transformExpressionsUp$1.apply(QueryPlan.scala:268)\n\tat org.apache.spark.sql.catalyst.plans.QueryPlan$$anonfun$transformExpressionsUp$1.apply(QueryPlan.scala:268)\n\tat org.apache.spark.sql.catalyst.plans.QueryPlan.transformExpression$1(QueryPlan.scala:279)\n\tat org.apache.spark.sql.catalyst.plans.QueryPlan.org$apache$spark$sql$catalyst$plans$QueryPlan$$recursiveTransform$1(QueryPlan.scala:289)\n\tat org.apache.spark.sql.catalyst.plans.QueryPlan$$anonfun$6.apply(QueryPlan.scala:298)\n\tat org.apache.spark.sql.catalyst.trees.TreeNode.mapProductIterator(TreeNode.scala:187)\n\tat org.apache.spark.sql.catalyst.plans.QueryPlan.mapExpressions(QueryPlan.scala:298)\n\tat org.apache.spark.sql.catalyst.plans.QueryPlan.transformExpressionsUp(QueryPlan.scala:268)\n\tat org.apache.spark.sql.catalyst.analysis.CheckAnalysis$$anonfun$checkAnalysis$1.apply(CheckAnalysis.scala:85)\n\tat org.apache.spark.sql.catalyst.analysis.CheckAnalysis$$anonfun$checkAnalysis$1.apply(CheckAnalysis.scala:78)\n\tat org.apache.spark.sql.catalyst.trees.TreeNode.foreachUp(TreeNode.scala:127)\n\tat org.apache.spark.sql.catalyst.trees.TreeNode$$anonfun$foreachUp$1.apply(TreeNode.scala:126)\n\tat org.apache.spark.sql.catalyst.trees.TreeNode$$anonfun$foreachUp$1.apply(TreeNode.scala:126)\n\tat scala.collection.immutable.List.foreach(List.scala:381)\n\tat org.apache.spark.sql.catalyst.trees.TreeNode.foreachUp(TreeNode.scala:126)\n\tat org.apache.spark.sql.catalyst.analysis.CheckAnalysis$class.checkAnalysis(CheckAnalysis.scala:78)\n\tat org.apache.spark.sql.catalyst.analysis.Analyzer.checkAnalysis(Analyzer.scala:91)\n\tat org.apache.spark.sql.execution.QueryExecution.assertAnalyzed(QueryExecution.scala:52)\n\tat org.apache.spark.sql.Dataset$.ofRows(Dataset.scala:67)\n\tat org.apache.spark.sql.SparkSession.sql(SparkSession.scala:632)\n\tat sun.reflect.GeneratedMethodAccessor44.invoke(Unknown Source)\n\tat sun.reflect.DelegatingMethodAccessorImpl.invoke(DelegatingMethodAccessorImpl.java:43)\n\tat java.lang.reflect.Method.invoke(Method.java:498)\n\tat py4j.reflection.MethodInvoker.invoke(MethodInvoker.java:244)\n\tat py4j.reflection.ReflectionEngine.invoke(ReflectionEngine.java:357)\n\tat py4j.Gateway.invoke(Gateway.java:282)\n\tat py4j.commands.AbstractCommand.invokeMethod(AbstractCommand.java:132)\n\tat py4j.commands.CallCommand.execute(CallCommand.java:79)\n\tat py4j.GatewayConnection.run(GatewayConnection.java:238)\n\tat java.lang.Thread.run(Thread.java:748)\n",
      "\nDuring handling of the above exception, another exception occurred:\n",
      "\u001b[0;31mAnalysisException\u001b[0m                         Traceback (most recent call last)",
      "\u001b[0;32m<ipython-input-79-4c9db9ee3696>\u001b[0m in \u001b[0;36m<module>\u001b[0;34m\u001b[0m\n\u001b[0;32m----> 1\u001b[0;31m \u001b[0mspark\u001b[0m\u001b[0;34m.\u001b[0m\u001b[0msql\u001b[0m\u001b[0;34m(\u001b[0m\u001b[0;34m'select * from db.Car_Sales_Transactions where city_code=CT01'\u001b[0m\u001b[0;34m)\u001b[0m\u001b[0;34m\u001b[0m\u001b[0m\n\u001b[0m",
      "\u001b[0;32m/usr/local/spark/python/pyspark/sql/session.py\u001b[0m in \u001b[0;36msql\u001b[0;34m(self, sqlQuery)\u001b[0m\n\u001b[1;32m    601\u001b[0m         \u001b[0;34m[\u001b[0m\u001b[0mRow\u001b[0m\u001b[0;34m(\u001b[0m\u001b[0mf1\u001b[0m\u001b[0;34m=\u001b[0m\u001b[0;36m1\u001b[0m\u001b[0;34m,\u001b[0m \u001b[0mf2\u001b[0m\u001b[0;34m=\u001b[0m\u001b[0;34mu'row1'\u001b[0m\u001b[0;34m)\u001b[0m\u001b[0;34m,\u001b[0m \u001b[0mRow\u001b[0m\u001b[0;34m(\u001b[0m\u001b[0mf1\u001b[0m\u001b[0;34m=\u001b[0m\u001b[0;36m2\u001b[0m\u001b[0;34m,\u001b[0m \u001b[0mf2\u001b[0m\u001b[0;34m=\u001b[0m\u001b[0;34mu'row2'\u001b[0m\u001b[0;34m)\u001b[0m\u001b[0;34m,\u001b[0m \u001b[0mRow\u001b[0m\u001b[0;34m(\u001b[0m\u001b[0mf1\u001b[0m\u001b[0;34m=\u001b[0m\u001b[0;36m3\u001b[0m\u001b[0;34m,\u001b[0m \u001b[0mf2\u001b[0m\u001b[0;34m=\u001b[0m\u001b[0;34mu'row3'\u001b[0m\u001b[0;34m)\u001b[0m\u001b[0;34m]\u001b[0m\u001b[0;34m\u001b[0m\u001b[0m\n\u001b[1;32m    602\u001b[0m         \"\"\"\n\u001b[0;32m--> 603\u001b[0;31m         \u001b[0;32mreturn\u001b[0m \u001b[0mDataFrame\u001b[0m\u001b[0;34m(\u001b[0m\u001b[0mself\u001b[0m\u001b[0;34m.\u001b[0m\u001b[0m_jsparkSession\u001b[0m\u001b[0;34m.\u001b[0m\u001b[0msql\u001b[0m\u001b[0;34m(\u001b[0m\u001b[0msqlQuery\u001b[0m\u001b[0;34m)\u001b[0m\u001b[0;34m,\u001b[0m \u001b[0mself\u001b[0m\u001b[0;34m.\u001b[0m\u001b[0m_wrapped\u001b[0m\u001b[0;34m)\u001b[0m\u001b[0;34m\u001b[0m\u001b[0m\n\u001b[0m\u001b[1;32m    604\u001b[0m \u001b[0;34m\u001b[0m\u001b[0m\n\u001b[1;32m    605\u001b[0m     \u001b[0;34m@\u001b[0m\u001b[0msince\u001b[0m\u001b[0;34m(\u001b[0m\u001b[0;36m2.0\u001b[0m\u001b[0;34m)\u001b[0m\u001b[0;34m\u001b[0m\u001b[0m\n",
      "\u001b[0;32m/usr/local/spark/python/lib/py4j-0.10.7-src.zip/py4j/java_gateway.py\u001b[0m in \u001b[0;36m__call__\u001b[0;34m(self, *args)\u001b[0m\n\u001b[1;32m   1255\u001b[0m         \u001b[0manswer\u001b[0m \u001b[0;34m=\u001b[0m \u001b[0mself\u001b[0m\u001b[0;34m.\u001b[0m\u001b[0mgateway_client\u001b[0m\u001b[0;34m.\u001b[0m\u001b[0msend_command\u001b[0m\u001b[0;34m(\u001b[0m\u001b[0mcommand\u001b[0m\u001b[0;34m)\u001b[0m\u001b[0;34m\u001b[0m\u001b[0m\n\u001b[1;32m   1256\u001b[0m         return_value = get_return_value(\n\u001b[0;32m-> 1257\u001b[0;31m             answer, self.gateway_client, self.target_id, self.name)\n\u001b[0m\u001b[1;32m   1258\u001b[0m \u001b[0;34m\u001b[0m\u001b[0m\n\u001b[1;32m   1259\u001b[0m         \u001b[0;32mfor\u001b[0m \u001b[0mtemp_arg\u001b[0m \u001b[0;32min\u001b[0m \u001b[0mtemp_args\u001b[0m\u001b[0;34m:\u001b[0m\u001b[0;34m\u001b[0m\u001b[0m\n",
      "\u001b[0;32m/usr/local/spark/python/pyspark/sql/utils.py\u001b[0m in \u001b[0;36mdeco\u001b[0;34m(*a, **kw)\u001b[0m\n\u001b[1;32m     67\u001b[0m                                              e.java_exception.getStackTrace()))\n\u001b[1;32m     68\u001b[0m             \u001b[0;32mif\u001b[0m \u001b[0ms\u001b[0m\u001b[0;34m.\u001b[0m\u001b[0mstartswith\u001b[0m\u001b[0;34m(\u001b[0m\u001b[0;34m'org.apache.spark.sql.AnalysisException: '\u001b[0m\u001b[0;34m)\u001b[0m\u001b[0;34m:\u001b[0m\u001b[0;34m\u001b[0m\u001b[0m\n\u001b[0;32m---> 69\u001b[0;31m                 \u001b[0;32mraise\u001b[0m \u001b[0mAnalysisException\u001b[0m\u001b[0;34m(\u001b[0m\u001b[0ms\u001b[0m\u001b[0;34m.\u001b[0m\u001b[0msplit\u001b[0m\u001b[0;34m(\u001b[0m\u001b[0;34m': '\u001b[0m\u001b[0;34m,\u001b[0m \u001b[0;36m1\u001b[0m\u001b[0;34m)\u001b[0m\u001b[0;34m[\u001b[0m\u001b[0;36m1\u001b[0m\u001b[0;34m]\u001b[0m\u001b[0;34m,\u001b[0m \u001b[0mstackTrace\u001b[0m\u001b[0;34m)\u001b[0m\u001b[0;34m\u001b[0m\u001b[0m\n\u001b[0m\u001b[1;32m     70\u001b[0m             \u001b[0;32mif\u001b[0m \u001b[0ms\u001b[0m\u001b[0;34m.\u001b[0m\u001b[0mstartswith\u001b[0m\u001b[0;34m(\u001b[0m\u001b[0;34m'org.apache.spark.sql.catalyst.analysis'\u001b[0m\u001b[0;34m)\u001b[0m\u001b[0;34m:\u001b[0m\u001b[0;34m\u001b[0m\u001b[0m\n\u001b[1;32m     71\u001b[0m                 \u001b[0;32mraise\u001b[0m \u001b[0mAnalysisException\u001b[0m\u001b[0;34m(\u001b[0m\u001b[0ms\u001b[0m\u001b[0;34m.\u001b[0m\u001b[0msplit\u001b[0m\u001b[0;34m(\u001b[0m\u001b[0;34m': '\u001b[0m\u001b[0;34m,\u001b[0m \u001b[0;36m1\u001b[0m\u001b[0;34m)\u001b[0m\u001b[0;34m[\u001b[0m\u001b[0;36m1\u001b[0m\u001b[0;34m]\u001b[0m\u001b[0;34m,\u001b[0m \u001b[0mstackTrace\u001b[0m\u001b[0;34m)\u001b[0m\u001b[0;34m\u001b[0m\u001b[0m\n",
      "\u001b[0;31mAnalysisException\u001b[0m: \"cannot resolve '`city_code`' given input columns: [_c1, _c13, _c5, _c3, _c0, _c8, _c11, _c12, _c9, _c2, _c14, _c15, _c4, _c10, _c7, _c6]; line 1 pos 46;\\n'Project [*]\\n+- 'Filter ('city_code = 'CT01)\\n   +- SubqueryAlias car_sales_transactions\\n      +- Relation[_c0#2058,_c1#2059,_c2#2060,_c3#2061,_c4#2062,_c5#2063,_c6#2064,_c7#2065,_c8#2066,_c9#2067,_c10#2068,_c11#2069,_c12#2070,_c13#2071,_c14#2072,_c15#2073] parquet\\n\""
     ]
    }
   ],
   "source": [
    "spark.sql('select * from db.Car_Sales_Transactions where city_code=CT01')"
   ]
  },
  {
   "cell_type": "code",
   "execution_count": 88,
   "metadata": {},
   "outputs": [
    {
     "name": "stdout",
     "output_type": "stream",
     "text": [
      "+---------+------------+----------+\n",
      "|City_Code|   City_Name|State_Code|\n",
      "+---------+------------+----------+\n",
      "|     CT01|      Mumbai|      ST15|\n",
      "|     CT02|        Pune|      ST15|\n",
      "|     CT03|     Chennai|      ST24|\n",
      "|     CT04|  Coimbatore|      ST24|\n",
      "|     CT05|   Hyderabad|      ST25|\n",
      "|     CT06|      Jaipur|      ST22|\n",
      "|     CT07|       Kochi|      ST13|\n",
      "|     CT08|     Kolkata|      ST29|\n",
      "|     CT09|       Delhi|      ST34|\n",
      "|     CT10|   Bangalore|      ST12|\n",
      "|     CT11|   Ahmedabad|      ST07|\n",
      "|     CT12|       Noida|      ST28|\n",
      "|     CT13|       Patna|      ST04|\n",
      "|     CT14|       Surat|      ST07|\n",
      "|     CT15|Bhubaneshwar|      ST20|\n",
      "|     CT16|     Gangtok|      ST23|\n",
      "|     CT17|    Vadodara|      ST07|\n",
      "|     CT18|    Ludhiana|      ST21|\n",
      "|     CT19|      Mysore|      ST12|\n",
      "|     CT20|      kanpur|      ST28|\n",
      "+---------+------------+----------+\n",
      "only showing top 20 rows\n",
      "\n"
     ]
    }
   ],
   "source": [
    "City_Master = spark.read.load(\"City_Master.csv\", format=\"csv\", inferSchema=\"true\", header=\"true\")\n",
    "City_Master.show()"
   ]
  },
  {
   "cell_type": "code",
   "execution_count": 83,
   "metadata": {
    "scrolled": true
   },
   "outputs": [
    {
     "name": "stdout",
     "output_type": "stream",
     "text": [
      "+--------+--------------------+----+-------------+---------+---------+----------+-----------+------+-----------+------------+------------+----------+-------+----------+-----+\n",
      "|Sales_ID|                Name|Year|Selling_Price|km_Driven|City_Code|State_Code|Postal_Code|  Fuel|Seller_Type|Transmission|       Owner|   Mileage| Engine| Max_Power|Seats|\n",
      "+--------+--------------------+----+-------------+---------+---------+----------+-----------+------+-----------+------------+------------+----------+-------+----------+-----+\n",
      "|       1|Maruti Swift Dzir...|2014|       450000|   145500|     CT01|      ST15|     400001|Diesel| Individual|      Manual| First Owner| 23.4 kmpl|1248 CC|    74 bhp|    5|\n",
      "|       2|Skoda Rapid 1.5 T...|2014|       370000|   120000|     CT28|      ST11|     834001|Diesel| Individual|      Manual|Second Owner|21.14 kmpl|1498 CC|103.52 bhp|    5|\n",
      "|       3|Honda City 2017-2...|2006|       158000|   140000|     CT12|      ST28|     201301|Petrol| Individual|      Manual| Third Owner| 17.7 kmpl|1497 CC|    78 bhp|    5|\n",
      "|       4|Hyundai i20 Sport...|2010|       225000|   127000|     CT21|      ST27|     248001|Diesel| Individual|      Manual| First Owner| 23.0 kmpl|1396 CC|    90 bhp|    5|\n",
      "|       5|Maruti Swift VXI ...|2007|       130000|   120000|     CT03|      ST24|     600020|Petrol| Individual|      Manual| First Owner| 16.1 kmpl|1298 CC|  88.2 bhp|    5|\n",
      "|       6|Hyundai Xcent 1.2...|2017|       440000|    45000|     CT06|      ST22|     302029|Petrol| Individual|      Manual| First Owner|20.14 kmpl|1197 CC| 81.86 bhp|    5|\n",
      "|       7|Maruti Wagon R LX...|2007|        96000|   175000|     CT06|      ST22|     302029|   LPG| Individual|      Manual| First Owner|17.3 km/kg|1061 CC|  57.5 bhp|    5|\n",
      "|       8|  Maruti 800 DX BSII|2001|        45000|     5000|     CT02|      ST15|     411002|Petrol| Individual|      Manual|Second Owner| 16.1 kmpl| 796 CC|    37 bhp|    4|\n",
      "|       9|    Toyota Etios VXD|2011|       350000|    90000|     CT26|      ST15|     431001|Diesel| Individual|      Manual| First Owner|23.59 kmpl|1364 CC|  67.1 bhp|    5|\n",
      "|      10|Ford Figo Diesel ...|2013|       200000|   169000|     CT10|      ST12|     560034|Diesel| Individual|      Manual| First Owner| 20.0 kmpl|1399 CC|  68.1 bhp|    5|\n",
      "|      11|Renault Duster 11...|2014|       500000|    68000|     CT21|      ST27|     248001|Diesel| Individual|      Manual|Second Owner|19.01 kmpl|1461 CC|108.45 bhp|    5|\n",
      "|      12|       Maruti Zen LX|2005|        92000|   100000|     CT25|      ST01|     524225|Petrol| Individual|      Manual|Second Owner| 17.3 kmpl| 993 CC|    60 bhp|    5|\n",
      "|      13|Maruti Swift Dzir...|2009|       280000|   140000|     CT04|      ST24|     641001|Diesel| Individual|      Manual|Second Owner| 19.3 kmpl|1248 CC|  73.9 bhp|    5|\n",
      "|      15|Maruti Wagon R LX...|2009|       180000|    90000|     CT20|      ST28|     208002|Petrol| Individual|      Manual|Second Owner| 18.9 kmpl|1061 CC|    67 bhp|    5|\n",
      "|      16|Mahindra KUV 100 ...|2016|       400000|    40000|     CT16|      ST23|     737101|Petrol| Individual|      Manual| First Owner|18.15 kmpl|1198 CC|    82 bhp|    5|\n",
      "|      17|Maruti Ertiga SHV...|2016|       778000|    70000|     CT07|      ST13|     682001|Diesel| Individual|      Manual|Second Owner|24.52 kmpl|1248 CC|  88.5 bhp|    7|\n",
      "|      18|Hyundai i20 1.4 C...|2012|       500000|    53000|     CT01|      ST15|     400001|Diesel| Individual|      Manual|Second Owner| 23.0 kmpl|1396 CC|    90 bhp|    5|\n",
      "|      19|      Maruti Alto LX|2002|       150000|    80000|     CT17|      ST07|     391510|Petrol| Individual|      Manual|Second Owner| 19.7 kmpl| 796 CC|  46.3 bhp|    5|\n",
      "|      20|Hyundai i20 2015-...|2016|       680000|   100000|     CT09|      ST34|     110039|Diesel| Individual|      Manual| First Owner|22.54 kmpl|1396 CC| 88.73 bhp|    5|\n",
      "|      21|Mahindra Verito 1...|2011|       174000|   100000|     CT19|      ST12|     570004|Diesel| Individual|      Manual|Second Owner| 21.0 kmpl|1461 CC|  64.1 bhp|    5|\n",
      "+--------+--------------------+----+-------------+---------+---------+----------+-----------+------+-----------+------------+------------+----------+-------+----------+-----+\n",
      "only showing top 20 rows\n",
      "\n"
     ]
    }
   ],
   "source": [
    "Car_Sales  = spark.read.load(\"Car_sales_transactions.csv\", format=\"csv\", inferSchema=\"true\", header=\"true\")\n",
    "Car_Sales.show()"
   ]
  },
  {
   "cell_type": "code",
   "execution_count": 89,
   "metadata": {},
   "outputs": [],
   "source": [
    "Car_Sales.write.mode('overwrite').saveAsTable('db.Car_Sales_Transactions')"
   ]
  },
  {
   "cell_type": "code",
   "execution_count": 97,
   "metadata": {},
   "outputs": [],
   "source": [
    "City_Master.write.mode('overwrite').saveAsTable('db.City_Master')"
   ]
  },
  {
   "cell_type": "code",
   "execution_count": 98,
   "metadata": {},
   "outputs": [
    {
     "name": "stdout",
     "output_type": "stream",
     "text": [
      "+---------+------------+----------+\n",
      "|City_Code|   City_Name|State_Code|\n",
      "+---------+------------+----------+\n",
      "|     CT01|      Mumbai|      ST15|\n",
      "|     CT02|        Pune|      ST15|\n",
      "|     CT03|     Chennai|      ST24|\n",
      "|     CT04|  Coimbatore|      ST24|\n",
      "|     CT05|   Hyderabad|      ST25|\n",
      "|     CT06|      Jaipur|      ST22|\n",
      "|     CT07|       Kochi|      ST13|\n",
      "|     CT08|     Kolkata|      ST29|\n",
      "|     CT09|       Delhi|      ST34|\n",
      "|     CT10|   Bangalore|      ST12|\n",
      "|     CT11|   Ahmedabad|      ST07|\n",
      "|     CT12|       Noida|      ST28|\n",
      "|     CT13|       Patna|      ST04|\n",
      "|     CT14|       Surat|      ST07|\n",
      "|     CT15|Bhubaneshwar|      ST20|\n",
      "|     CT16|     Gangtok|      ST23|\n",
      "|     CT17|    Vadodara|      ST07|\n",
      "|     CT18|    Ludhiana|      ST21|\n",
      "|     CT19|      Mysore|      ST12|\n",
      "|     CT20|      kanpur|      ST28|\n",
      "+---------+------------+----------+\n",
      "only showing top 20 rows\n",
      "\n"
     ]
    }
   ],
   "source": [
    "spark.sql('select * from City_Master').show()"
   ]
  },
  {
   "cell_type": "code",
   "execution_count": 96,
   "metadata": {
    "scrolled": true
   },
   "outputs": [
    {
     "name": "stdout",
     "output_type": "stream",
     "text": [
      "+--------+--------------------+----+-------------+---------+---------+----------+-----------+------+-----------+------------+------------+----------+-------+----------+-----+\n",
      "|Sales_ID|                Name|Year|Selling_Price|km_Driven|City_Code|State_Code|Postal_Code|  Fuel|Seller_Type|Transmission|       Owner|   Mileage| Engine| Max_Power|Seats|\n",
      "+--------+--------------------+----+-------------+---------+---------+----------+-----------+------+-----------+------------+------------+----------+-------+----------+-----+\n",
      "|       1|Maruti Swift Dzir...|2014|       450000|   145500|     CT01|      ST15|     400001|Diesel| Individual|      Manual| First Owner| 23.4 kmpl|1248 CC|    74 bhp|    5|\n",
      "|      18|Hyundai i20 1.4 C...|2012|       500000|    53000|     CT01|      ST15|     400001|Diesel| Individual|      Manual|Second Owner| 23.0 kmpl|1396 CC|    90 bhp|    5|\n",
      "|      48|Toyota Fortuner 4...|2014|      1500000|    77000|     CT01|      ST15|     400001|Diesel|     Dealer|      Manual| First Owner|12.55 kmpl|2982 CC| 168.5 bhp|    7|\n",
      "|      71|Volkswagen Ameo 1...|2017|       500000|    80000|     CT01|      ST15|     400001|Diesel| Individual|      Manual| First Owner|21.66 kmpl|1498 CC|108.62 bhp|    5|\n",
      "|     121|Nissan Terrano XL...|2014|       400000|    70000|     CT01|      ST15|     400001|Diesel| Individual|      Manual| Third Owner|20.45 kmpl|1461 CC|  83.8 bhp|    5|\n",
      "|     146|Volvo XC40 D4 R-D...|2018|      3400000|    22000|     CT01|      ST15|     400001|Diesel|     Dealer|   Automatic| First Owner| 18.0 kmpl|1969 CC|   190 bhp|    5|\n",
      "|     153|Tata Nexon 1.2 Re...|2018|       811000|    11000|     CT01|      ST15|     400001|Petrol|     Dealer|      Manual| First Owner| 17.0 kmpl|1198 CC| 108.5 bhp|    5|\n",
      "|     177|Hyundai i20 Magna...|2016|       550000|    14000|     CT01|      ST15|     400001|Petrol| Individual|      Manual|Second Owner| 18.6 kmpl|1197 CC| 81.83 bhp|    5|\n",
      "|     181|Volkswagen Ameo 1...|2019|       480000|    13000|     CT01|      ST15|     400001|Petrol| Individual|      Manual| First Owner|19.44 kmpl| 999 CC|    75 bhp|    5|\n",
      "|     193|Maruti Wagon R VX...|2010|       215000|   120600|     CT01|      ST15|     400001|Petrol| Individual|      Manual|Second Owner| 18.9 kmpl| 998 CC|  67.1 bhp|    5|\n",
      "|     234|Mahindra Ssangyon...|2013|       900000|    70000|     CT01|      ST15|     400001|Diesel| Individual|      Manual| First Owner|12.83 kmpl|2696 CC|   162 bhp|    7|\n",
      "|     269|Hyundai Elite i20...|2019|       610000|     2000|     CT01|      ST15|     400001|Petrol| Individual|      Manual| First Owner| 18.6 kmpl|1197 CC| 81.86 bhp|    5|\n",
      "|     282|Honda Brio Exclus...|2014|       335000|    33033|     CT01|      ST15|     400001|Petrol|     Dealer|      Manual| First Owner| 19.4 kmpl|1198 CC|  86.8 bhp|    5|\n",
      "|     283|Hyundai Grand i10...|2015|       465000|    63063|     CT01|      ST15|     400001|Petrol|     Dealer|   Automatic| First Owner| 18.9 kmpl|1197 CC|    82 bhp|    5|\n",
      "|     285|      Maruti Alto LX|2005|       110000|    45000|     CT01|      ST15|     400001|Petrol| Individual|      Manual|Second Owner| 19.7 kmpl| 796 CC|  46.3 bhp|    5|\n",
      "|     295|Hyundai i10 Sport...|2011|       265000|    20000|     CT01|      ST15|     400001|Petrol| Individual|   Automatic| First Owner|16.95 kmpl|1197 CC|  78.9 bhp|    5|\n",
      "|     321|Hyundai Creta 1.4...|2018|      1210000|    25000|     CT01|      ST15|     400001|Diesel| Individual|      Manual| First Owner|21.38 kmpl|1396 CC|  88.7 bhp|    5|\n",
      "|     344|  Maruti Wagon R LXI|2005|        89000|    90000|     CT01|      ST15|     400001|Petrol| Individual|      Manual|Second Owner| 18.9 kmpl| 998 CC|  67.1 bhp|    5|\n",
      "|     451|Hyundai Creta 1.6...|2016|       800000|    25000|     CT01|      ST15|     400001|Petrol| Individual|      Manual| First Owner|15.29 kmpl|1591 CC| 121.3 bhp|    5|\n",
      "|     494|Maruti Swift Dzir...|2008|       160000|   123000|     CT01|      ST15|     400001|Petrol| Individual|      Manual| Third Owner| 17.5 kmpl|1298 CC|  85.8 bhp|    5|\n",
      "+--------+--------------------+----+-------------+---------+---------+----------+-----------+------+-----------+------------+------------+----------+-------+----------+-----+\n",
      "only showing top 20 rows\n",
      "\n"
     ]
    }
   ],
   "source": [
    "spark.sql('select * from db.Car_Sales_Transactions where City_Code=\"CT01\"').show()"
   ]
  },
  {
   "cell_type": "code",
   "execution_count": 105,
   "metadata": {},
   "outputs": [],
   "source": [
    "Postal_Code_Master = spark.read.load(\"Postal_Code_Master.csv\", format=\"csv\", inferSchema=\"true\", header=\"true\")\n",
    "Postal_Code_Master.write.mode('overwrite').saveAsTable('db.Postal_Code_Master')"
   ]
  },
  {
   "cell_type": "code",
   "execution_count": 106,
   "metadata": {},
   "outputs": [],
   "source": [
    "Region_State_Mapping = spark.read.load(\"Region_State_Mapping.csv\", format = \"csv\", inferSchema=\"true\",header=\"true\")\n",
    "Region_State_Mapping.write.mode('overwrite').saveAsTable('db.Region_State_Mapping')"
   ]
  },
  {
   "cell_type": "code",
   "execution_count": 107,
   "metadata": {},
   "outputs": [],
   "source": [
    "Sales_Status = spark.read.load(\"Sales_Status.csv\", format = \"csv\", inferSchema=\"true\", header=\"true\")\n",
    "Sales_Status.write.mode('overwrite').saveAsTable('db.Sales_Status')"
   ]
  },
  {
   "cell_type": "code",
   "execution_count": 108,
   "metadata": {},
   "outputs": [],
   "source": [
    "State_Master = spark.read.load(\"State_Master.csv\",format=\"csv\",inferSchema=\"true\",header=\"true\")\n",
    "State_Master.write.mode('overwrite').saveAsTable('db.State_Master')"
   ]
  },
  {
   "cell_type": "code",
   "execution_count": 109,
   "metadata": {},
   "outputs": [],
   "source": [
    "Region_Master = spark.read.load(\"Region_Master.csv\",format=\"csv\",inferSchema=\"true\",header=\"true\")\n",
    "Region_Master.write.mode('overwrite').saveAsTable('db.Region_Master')"
   ]
  },
  {
   "cell_type": "code",
   "execution_count": 110,
   "metadata": {},
   "outputs": [
    {
     "name": "stdout",
     "output_type": "stream",
     "text": [
      "+--------+--------------------+-----------+\n",
      "|database|           tableName|isTemporary|\n",
      "+--------+--------------------+-----------+\n",
      "|      db|car_sales_transac...|      false|\n",
      "|      db|         city_master|      false|\n",
      "|      db|  postal_code_master|      false|\n",
      "|      db|       region_master|      false|\n",
      "|      db|region_state_mapping|      false|\n",
      "|      db|        sales_status|      false|\n",
      "|      db|        state_master|      false|\n",
      "+--------+--------------------+-----------+\n",
      "\n"
     ]
    }
   ],
   "source": [
    "spark.sql(\"show tables\").show()"
   ]
  },
  {
   "cell_type": "code",
   "execution_count": 111,
   "metadata": {},
   "outputs": [
    {
     "name": "stdout",
     "output_type": "stream",
     "text": [
      "+-----------+----------+\n",
      "|Region_Code|    Region|\n",
      "+-----------+----------+\n",
      "|         R1|   Central|\n",
      "|         R2|      East|\n",
      "|         R3|      West|\n",
      "|         R4|     South|\n",
      "|         R5|     North|\n",
      "|         R6|North East|\n",
      "+-----------+----------+\n",
      "\n"
     ]
    }
   ],
   "source": [
    "spark.sql(\"select * from region_master\").show()"
   ]
  },
  {
   "cell_type": "code",
   "execution_count": 113,
   "metadata": {},
   "outputs": [
    {
     "name": "stdout",
     "output_type": "stream",
     "text": [
      "+--------+----+\n",
      "|Sales_ID|Sold|\n",
      "+--------+----+\n",
      "|       1|   Y|\n",
      "|       2|   Y|\n",
      "|       3|   Y|\n",
      "|       4|   Y|\n",
      "|       5|   Y|\n",
      "|       6|   Y|\n",
      "|       7|   Y|\n",
      "|       8|   Y|\n",
      "|       9|   Y|\n",
      "|      10|   Y|\n",
      "|      11|   Y|\n",
      "|      12|   Y|\n",
      "|      13|   Y|\n",
      "|      15|   Y|\n",
      "|      16|   Y|\n",
      "|      17|   Y|\n",
      "|      18|   Y|\n",
      "|      19|   Y|\n",
      "|      20|   Y|\n",
      "|      21|   Y|\n",
      "+--------+----+\n",
      "only showing top 20 rows\n",
      "\n"
     ]
    }
   ],
   "source": [
    "spark.sql(\"select * from sales_status\").show()"
   ]
  },
  {
   "cell_type": "code",
   "execution_count": 114,
   "metadata": {},
   "outputs": [
    {
     "name": "stdout",
     "output_type": "stream",
     "text": [
      "+-----------+---------+\n",
      "|Postal_Code|City_Code|\n",
      "+-----------+---------+\n",
      "|     400001|     CT01|\n",
      "|     400053|     CT01|\n",
      "|     400035|     CT01|\n",
      "|     400050|     CT01|\n",
      "|     411002|     CT02|\n",
      "|     411005|     CT02|\n",
      "|     411043|     CT02|\n",
      "|     411006|     CT02|\n",
      "|     600020|     CT03|\n",
      "|     600039|     CT03|\n",
      "|     600017|     CT03|\n",
      "|     600018|     CT03|\n",
      "|     641001|     CT04|\n",
      "|     641043|     CT04|\n",
      "|     641006|     CT04|\n",
      "|     641045|     CT04|\n",
      "|     500004|     CT05|\n",
      "|     500020|     CT05|\n",
      "|     500032|     CT05|\n",
      "|     500045|     CT05|\n",
      "+-----------+---------+\n",
      "only showing top 20 rows\n",
      "\n"
     ]
    }
   ],
   "source": [
    "spark.sql(\"select * from postal_code_master\").show()"
   ]
  },
  {
   "cell_type": "code",
   "execution_count": 115,
   "metadata": {},
   "outputs": [
    {
     "name": "stdout",
     "output_type": "stream",
     "text": [
      "+-----------+----------+\n",
      "|Region_Code|State_Code|\n",
      "+-----------+----------+\n",
      "|         R4|      ST01|\n",
      "|         R6|      ST02|\n",
      "|         R6|      ST03|\n",
      "|         R2|      ST04|\n",
      "|         R1|      ST05|\n",
      "|         R3|      ST06|\n",
      "|         R3|      ST07|\n",
      "|         R5|      ST08|\n",
      "|         R5|      ST09|\n",
      "|         R5|      ST10|\n",
      "|         R2|      ST11|\n",
      "|         R4|      ST12|\n",
      "|         R4|      ST13|\n",
      "|         R1|      ST14|\n",
      "|         R3|      ST15|\n",
      "|         R6|      ST16|\n",
      "|         R6|      ST17|\n",
      "|         R6|      ST18|\n",
      "|         R6|      ST19|\n",
      "|         R2|      ST20|\n",
      "+-----------+----------+\n",
      "only showing top 20 rows\n",
      "\n"
     ]
    }
   ],
   "source": [
    "spark.sql(\"select * from region_state_mapping\").show()"
   ]
  },
  {
   "cell_type": "code",
   "execution_count": 208,
   "metadata": {},
   "outputs": [
    {
     "name": "stdout",
     "output_type": "stream",
     "text": [
      "+-------+-----------------+------------------+\n",
      "|summary|    Selling_Price|         km_driven|\n",
      "+-------+-----------------+------------------+\n",
      "|  count|             7906|              7906|\n",
      "|   mean| 649813.720844928| 69188.65975208703|\n",
      "| stddev|813582.7483541336|56792.296343317634|\n",
      "|    min|            29999|                 1|\n",
      "|    max|         10000000|           2360457|\n",
      "+-------+-----------------+------------------+\n",
      "\n"
     ]
    }
   ],
   "source": [
    "Car_Sales.select('Selling_Price','km_driven').describe().show()"
   ]
  },
  {
   "cell_type": "code",
   "execution_count": 222,
   "metadata": {},
   "outputs": [
    {
     "name": "stdout",
     "output_type": "stream",
     "text": [
      "+--------+--------------------+----+-------------+---------+---------+----------+-----------+------+-----------+------------+------------+----------+-------+----------+-----+-----------+\n",
      "|Sales_ID|                Name|Year|Selling_Price|km_Driven|City_Code|State_Code|Postal_Code|  Fuel|Seller_Type|Transmission|       Owner|   Mileage| Engine| Max_Power|Seats|Test_Column|\n",
      "+--------+--------------------+----+-------------+---------+---------+----------+-----------+------+-----------+------------+------------+----------+-------+----------+-----+-----------+\n",
      "|       1|Maruti Swift Dzir...|2014|       450000|   145500|     CT01|      ST15|     400001|Diesel| Individual|      Manual| First Owner| 23.4 kmpl|1248 CC|    74 bhp|    5|     900000|\n",
      "|       2|Skoda Rapid 1.5 T...|2014|       370000|   120000|     CT28|      ST11|     834001|Diesel| Individual|      Manual|Second Owner|21.14 kmpl|1498 CC|103.52 bhp|    5|     740000|\n",
      "|       3|Honda City 2017-2...|2006|       158000|   140000|     CT12|      ST28|     201301|Petrol| Individual|      Manual| Third Owner| 17.7 kmpl|1497 CC|    78 bhp|    5|     316000|\n",
      "|       4|Hyundai i20 Sport...|2010|       225000|   127000|     CT21|      ST27|     248001|Diesel| Individual|      Manual| First Owner| 23.0 kmpl|1396 CC|    90 bhp|    5|     450000|\n",
      "|       5|Maruti Swift VXI ...|2007|       130000|   120000|     CT03|      ST24|     600020|Petrol| Individual|      Manual| First Owner| 16.1 kmpl|1298 CC|  88.2 bhp|    5|     260000|\n",
      "|       6|Hyundai Xcent 1.2...|2017|       440000|    45000|     CT06|      ST22|     302029|Petrol| Individual|      Manual| First Owner|20.14 kmpl|1197 CC| 81.86 bhp|    5|     880000|\n",
      "|       7|Maruti Wagon R LX...|2007|        96000|   175000|     CT06|      ST22|     302029|   LPG| Individual|      Manual| First Owner|17.3 km/kg|1061 CC|  57.5 bhp|    5|     192000|\n",
      "|       8|  Maruti 800 DX BSII|2001|        45000|     5000|     CT02|      ST15|     411002|Petrol| Individual|      Manual|Second Owner| 16.1 kmpl| 796 CC|    37 bhp|    4|      90000|\n",
      "|       9|    Toyota Etios VXD|2011|       350000|    90000|     CT26|      ST15|     431001|Diesel| Individual|      Manual| First Owner|23.59 kmpl|1364 CC|  67.1 bhp|    5|     700000|\n",
      "|      10|Ford Figo Diesel ...|2013|       200000|   169000|     CT10|      ST12|     560034|Diesel| Individual|      Manual| First Owner| 20.0 kmpl|1399 CC|  68.1 bhp|    5|     400000|\n",
      "|      11|Renault Duster 11...|2014|       500000|    68000|     CT21|      ST27|     248001|Diesel| Individual|      Manual|Second Owner|19.01 kmpl|1461 CC|108.45 bhp|    5|    1000000|\n",
      "|      12|       Maruti Zen LX|2005|        92000|   100000|     CT25|      ST01|     524225|Petrol| Individual|      Manual|Second Owner| 17.3 kmpl| 993 CC|    60 bhp|    5|     184000|\n",
      "|      13|Maruti Swift Dzir...|2009|       280000|   140000|     CT04|      ST24|     641001|Diesel| Individual|      Manual|Second Owner| 19.3 kmpl|1248 CC|  73.9 bhp|    5|     560000|\n",
      "|      15|Maruti Wagon R LX...|2009|       180000|    90000|     CT20|      ST28|     208002|Petrol| Individual|      Manual|Second Owner| 18.9 kmpl|1061 CC|    67 bhp|    5|     360000|\n",
      "|      16|Mahindra KUV 100 ...|2016|       400000|    40000|     CT16|      ST23|     737101|Petrol| Individual|      Manual| First Owner|18.15 kmpl|1198 CC|    82 bhp|    5|     800000|\n",
      "|      17|Maruti Ertiga SHV...|2016|       778000|    70000|     CT07|      ST13|     682001|Diesel| Individual|      Manual|Second Owner|24.52 kmpl|1248 CC|  88.5 bhp|    7|    1556000|\n",
      "|      18|Hyundai i20 1.4 C...|2012|       500000|    53000|     CT01|      ST15|     400001|Diesel| Individual|      Manual|Second Owner| 23.0 kmpl|1396 CC|    90 bhp|    5|    1000000|\n",
      "|      19|      Maruti Alto LX|2002|       150000|    80000|     CT17|      ST07|     391510|Petrol| Individual|      Manual|Second Owner| 19.7 kmpl| 796 CC|  46.3 bhp|    5|     300000|\n",
      "|      20|Hyundai i20 2015-...|2016|       680000|   100000|     CT09|      ST34|     110039|Diesel| Individual|      Manual| First Owner|22.54 kmpl|1396 CC| 88.73 bhp|    5|    1360000|\n",
      "|      21|Mahindra Verito 1...|2011|       174000|   100000|     CT19|      ST12|     570004|Diesel| Individual|      Manual|Second Owner| 21.0 kmpl|1461 CC|  64.1 bhp|    5|     348000|\n",
      "+--------+--------------------+----+-------------+---------+---------+----------+-----------+------+-----------+------------+------------+----------+-------+----------+-----+-----------+\n",
      "only showing top 20 rows\n",
      "\n"
     ]
    }
   ],
   "source": [
    "Car_Sales.fillna(0).show()"
   ]
  },
  {
   "cell_type": "code",
   "execution_count": null,
   "metadata": {},
   "outputs": [],
   "source": []
  },
  {
   "cell_type": "code",
   "execution_count": null,
   "metadata": {},
   "outputs": [],
   "source": []
  }
 ],
 "metadata": {
  "kernelspec": {
   "display_name": "Python 3",
   "language": "python",
   "name": "python3"
  },
  "language_info": {
   "codemirror_mode": {
    "name": "ipython",
    "version": 3
   },
   "file_extension": ".py",
   "mimetype": "text/x-python",
   "name": "python",
   "nbconvert_exporter": "python",
   "pygments_lexer": "ipython3",
   "version": "3.5.2"
  }
 },
 "nbformat": 4,
 "nbformat_minor": 2
}
