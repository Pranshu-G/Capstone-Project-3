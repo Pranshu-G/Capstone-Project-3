{
 "cells": [
  {
   "cell_type": "markdown",
   "id": "3794b1d7",
   "metadata": {},
   "source": [
    "# Check Point 1 Group E-3\n",
    "## Members:\n",
    "   \n",
    "    * Apoorv Jain\n",
    "    * Harsh Jha\n",
    "    * Nirju Lahkar\n",
    "    * Pranshu Grover\n",
    "    * Subhadip Roy\n",
    "    "
   ]
  },
  {
   "cell_type": "markdown",
   "id": "c62745b6",
   "metadata": {},
   "source": [
    "# Task 1.1\n",
    "## 1. Which variable is significant in predicting the price of a used Car?"
   ]
  },
  {
   "cell_type": "code",
   "execution_count": 7,
   "id": "0add6b76",
   "metadata": {
    "scrolled": true
   },
   "outputs": [
    {
     "data": {
      "text/html": [
       "<div>\n",
       "<style scoped>\n",
       "    .dataframe tbody tr th:only-of-type {\n",
       "        vertical-align: middle;\n",
       "    }\n",
       "\n",
       "    .dataframe tbody tr th {\n",
       "        vertical-align: top;\n",
       "    }\n",
       "\n",
       "    .dataframe thead th {\n",
       "        text-align: right;\n",
       "    }\n",
       "</style>\n",
       "<table border=\"1\" class=\"dataframe\">\n",
       "  <thead>\n",
       "    <tr style=\"text-align: right;\">\n",
       "      <th></th>\n",
       "      <th>Sales_ID</th>\n",
       "      <th>Name</th>\n",
       "      <th>Year</th>\n",
       "      <th>Selling_Price</th>\n",
       "      <th>km_Driven</th>\n",
       "      <th>City_Code</th>\n",
       "      <th>State_Code</th>\n",
       "      <th>Postal_Code</th>\n",
       "      <th>Fuel</th>\n",
       "      <th>Seller_Type</th>\n",
       "      <th>Transmission</th>\n",
       "      <th>Owner</th>\n",
       "      <th>Mileage</th>\n",
       "      <th>Engine</th>\n",
       "      <th>Max_Power</th>\n",
       "      <th>Seats</th>\n",
       "    </tr>\n",
       "  </thead>\n",
       "  <tbody>\n",
       "    <tr>\n",
       "      <th>0</th>\n",
       "      <td>1</td>\n",
       "      <td>Maruti Swift Dzire VDI</td>\n",
       "      <td>2014</td>\n",
       "      <td>450000</td>\n",
       "      <td>145500</td>\n",
       "      <td>CT01</td>\n",
       "      <td>ST15</td>\n",
       "      <td>400001</td>\n",
       "      <td>Diesel</td>\n",
       "      <td>Individual</td>\n",
       "      <td>Manual</td>\n",
       "      <td>First Owner</td>\n",
       "      <td>23.4 kmpl</td>\n",
       "      <td>1248 CC</td>\n",
       "      <td>74 bhp</td>\n",
       "      <td>5</td>\n",
       "    </tr>\n",
       "    <tr>\n",
       "      <th>1</th>\n",
       "      <td>2</td>\n",
       "      <td>Skoda Rapid 1.5 TDI Ambition</td>\n",
       "      <td>2014</td>\n",
       "      <td>370000</td>\n",
       "      <td>120000</td>\n",
       "      <td>CT28</td>\n",
       "      <td>ST11</td>\n",
       "      <td>834001</td>\n",
       "      <td>Diesel</td>\n",
       "      <td>Individual</td>\n",
       "      <td>Manual</td>\n",
       "      <td>Second Owner</td>\n",
       "      <td>21.14 kmpl</td>\n",
       "      <td>1498 CC</td>\n",
       "      <td>103.52 bhp</td>\n",
       "      <td>5</td>\n",
       "    </tr>\n",
       "    <tr>\n",
       "      <th>2</th>\n",
       "      <td>3</td>\n",
       "      <td>Honda City 2017-2020 EXi</td>\n",
       "      <td>2006</td>\n",
       "      <td>158000</td>\n",
       "      <td>140000</td>\n",
       "      <td>CT12</td>\n",
       "      <td>ST28</td>\n",
       "      <td>201301</td>\n",
       "      <td>Petrol</td>\n",
       "      <td>Individual</td>\n",
       "      <td>Manual</td>\n",
       "      <td>Third Owner</td>\n",
       "      <td>17.7 kmpl</td>\n",
       "      <td>1497 CC</td>\n",
       "      <td>78 bhp</td>\n",
       "      <td>5</td>\n",
       "    </tr>\n",
       "    <tr>\n",
       "      <th>3</th>\n",
       "      <td>4</td>\n",
       "      <td>Hyundai i20 Sportz Diesel</td>\n",
       "      <td>2010</td>\n",
       "      <td>225000</td>\n",
       "      <td>127000</td>\n",
       "      <td>CT21</td>\n",
       "      <td>ST27</td>\n",
       "      <td>248001</td>\n",
       "      <td>Diesel</td>\n",
       "      <td>Individual</td>\n",
       "      <td>Manual</td>\n",
       "      <td>First Owner</td>\n",
       "      <td>23.0 kmpl</td>\n",
       "      <td>1396 CC</td>\n",
       "      <td>90 bhp</td>\n",
       "      <td>5</td>\n",
       "    </tr>\n",
       "    <tr>\n",
       "      <th>4</th>\n",
       "      <td>5</td>\n",
       "      <td>Maruti Swift VXI BSIII</td>\n",
       "      <td>2007</td>\n",
       "      <td>130000</td>\n",
       "      <td>120000</td>\n",
       "      <td>CT03</td>\n",
       "      <td>ST24</td>\n",
       "      <td>600020</td>\n",
       "      <td>Petrol</td>\n",
       "      <td>Individual</td>\n",
       "      <td>Manual</td>\n",
       "      <td>First Owner</td>\n",
       "      <td>16.1 kmpl</td>\n",
       "      <td>1298 CC</td>\n",
       "      <td>88.2 bhp</td>\n",
       "      <td>5</td>\n",
       "    </tr>\n",
       "  </tbody>\n",
       "</table>\n",
       "</div>"
      ],
      "text/plain": [
       "   Sales_ID                          Name  Year  Selling_Price  km_Driven  \\\n",
       "0         1        Maruti Swift Dzire VDI  2014         450000     145500   \n",
       "1         2  Skoda Rapid 1.5 TDI Ambition  2014         370000     120000   \n",
       "2         3      Honda City 2017-2020 EXi  2006         158000     140000   \n",
       "3         4     Hyundai i20 Sportz Diesel  2010         225000     127000   \n",
       "4         5        Maruti Swift VXI BSIII  2007         130000     120000   \n",
       "\n",
       "  City_Code State_Code  Postal_Code    Fuel Seller_Type Transmission  \\\n",
       "0      CT01       ST15       400001  Diesel  Individual       Manual   \n",
       "1      CT28       ST11       834001  Diesel  Individual       Manual   \n",
       "2      CT12       ST28       201301  Petrol  Individual       Manual   \n",
       "3      CT21       ST27       248001  Diesel  Individual       Manual   \n",
       "4      CT03       ST24       600020  Petrol  Individual       Manual   \n",
       "\n",
       "          Owner     Mileage   Engine   Max_Power  Seats  \n",
       "0   First Owner   23.4 kmpl  1248 CC      74 bhp      5  \n",
       "1  Second Owner  21.14 kmpl  1498 CC  103.52 bhp      5  \n",
       "2   Third Owner   17.7 kmpl  1497 CC      78 bhp      5  \n",
       "3   First Owner   23.0 kmpl  1396 CC      90 bhp      5  \n",
       "4   First Owner   16.1 kmpl  1298 CC    88.2 bhp      5  "
      ]
     },
     "execution_count": 7,
     "metadata": {},
     "output_type": "execute_result"
    }
   ],
   "source": [
    "import pandas as pd\n",
    "import seaborn as sns\n",
    "import matplotlib as plt\n",
    "import numpy as np\n",
    "df = pd.read_csv('Car_sales_transactions.csv')\n",
    "df.head(5)"
   ]
  },
  {
   "cell_type": "code",
   "execution_count": 65,
   "id": "02f91448",
   "metadata": {},
   "outputs": [
    {
     "name": "stdout",
     "output_type": "stream",
     "text": [
      "<class 'pandas.core.frame.DataFrame'>\n",
      "RangeIndex: 7906 entries, 0 to 7905\n",
      "Data columns (total 16 columns):\n",
      " #   Column         Non-Null Count  Dtype \n",
      "---  ------         --------------  ----- \n",
      " 0   Sales_ID       7906 non-null   int64 \n",
      " 1   Name           7906 non-null   object\n",
      " 2   Year           7906 non-null   int64 \n",
      " 3   Selling_Price  7906 non-null   int64 \n",
      " 4   km_Driven      7906 non-null   int64 \n",
      " 5   City_Code      7906 non-null   object\n",
      " 6   State_Code     7906 non-null   object\n",
      " 7   Postal_Code    7906 non-null   int64 \n",
      " 8   Fuel           7906 non-null   object\n",
      " 9   Seller_Type    7906 non-null   object\n",
      " 10  Transmission   7906 non-null   object\n",
      " 11  Owner          7906 non-null   object\n",
      " 12  Mileage        7906 non-null   object\n",
      " 13  Engine         7906 non-null   object\n",
      " 14  Max_Power      7906 non-null   object\n",
      " 15  Seats          7906 non-null   int64 \n",
      "dtypes: int64(6), object(10)\n",
      "memory usage: 988.4+ KB\n"
     ]
    }
   ],
   "source": [
    "df.info()"
   ]
  },
  {
   "cell_type": "code",
   "execution_count": 71,
   "id": "6f20233e",
   "metadata": {},
   "outputs": [],
   "source": [
    "Mileage_New = df['Mileage'].str.split(\" \")\n",
    "Mileage_Float = []\n",
    "for i in Mileage_New:\n",
    "    Mileage_Float.append(i[0])"
   ]
  },
  {
   "cell_type": "code",
   "execution_count": 72,
   "id": "7f886471",
   "metadata": {},
   "outputs": [],
   "source": [
    "df['Mileage_Float'] = Mileage_Float\n",
    "df['Mileage_Float'] = df['Mileage_Float'].astype('float')"
   ]
  },
  {
   "cell_type": "code",
   "execution_count": 138,
   "id": "f04799cb",
   "metadata": {},
   "outputs": [
    {
     "name": "stdout",
     "output_type": "stream",
     "text": [
      "<class 'pandas.core.frame.DataFrame'>\n",
      "RangeIndex: 7906 entries, 0 to 7905\n",
      "Data columns (total 17 columns):\n",
      " #   Column         Non-Null Count  Dtype  \n",
      "---  ------         --------------  -----  \n",
      " 0   Sales_ID       7906 non-null   int64  \n",
      " 1   Name           7906 non-null   object \n",
      " 2   Year           7906 non-null   int64  \n",
      " 3   Selling_Price  7906 non-null   int64  \n",
      " 4   km_Driven      7906 non-null   int64  \n",
      " 5   City_Code      7906 non-null   object \n",
      " 6   State_Code     7906 non-null   object \n",
      " 7   Postal_Code    7906 non-null   int64  \n",
      " 8   Fuel           7906 non-null   object \n",
      " 9   Seller_Type    7906 non-null   object \n",
      " 10  Transmission   7906 non-null   object \n",
      " 11  Owner          7906 non-null   object \n",
      " 12  Mileage        7906 non-null   object \n",
      " 13  Engine         7906 non-null   object \n",
      " 14  Max_Power      7906 non-null   object \n",
      " 15  Seats          7906 non-null   int64  \n",
      " 16  Mileage_Float  7906 non-null   float64\n",
      "dtypes: float64(1), int64(6), object(10)\n",
      "memory usage: 1.0+ MB\n"
     ]
    }
   ],
   "source": [
    "df.info()"
   ]
  },
  {
   "cell_type": "code",
   "execution_count": 73,
   "id": "4f568101",
   "metadata": {},
   "outputs": [
    {
     "name": "stdout",
     "output_type": "stream",
     "text": [
      "<class 'pandas.core.frame.DataFrame'>\n",
      "RangeIndex: 7906 entries, 0 to 7905\n",
      "Data columns (total 17 columns):\n",
      " #   Column         Non-Null Count  Dtype  \n",
      "---  ------         --------------  -----  \n",
      " 0   Sales_ID       7906 non-null   int64  \n",
      " 1   Name           7906 non-null   object \n",
      " 2   Year           7906 non-null   int64  \n",
      " 3   Selling_Price  7906 non-null   int64  \n",
      " 4   km_Driven      7906 non-null   int64  \n",
      " 5   City_Code      7906 non-null   object \n",
      " 6   State_Code     7906 non-null   object \n",
      " 7   Postal_Code    7906 non-null   int64  \n",
      " 8   Fuel           7906 non-null   object \n",
      " 9   Seller_Type    7906 non-null   object \n",
      " 10  Transmission   7906 non-null   object \n",
      " 11  Owner          7906 non-null   object \n",
      " 12  Mileage        7906 non-null   object \n",
      " 13  Engine         7906 non-null   object \n",
      " 14  Max_Power      7906 non-null   object \n",
      " 15  Seats          7906 non-null   int64  \n",
      " 16  Mileage_Float  7906 non-null   float64\n",
      "dtypes: float64(1), int64(6), object(10)\n",
      "memory usage: 1.0+ MB\n"
     ]
    }
   ],
   "source": [
    "df.info()"
   ]
  },
  {
   "cell_type": "code",
   "execution_count": 2,
   "id": "222c02c8",
   "metadata": {},
   "outputs": [
    {
     "data": {
      "text/html": [
       "<div>\n",
       "<style scoped>\n",
       "    .dataframe tbody tr th:only-of-type {\n",
       "        vertical-align: middle;\n",
       "    }\n",
       "\n",
       "    .dataframe tbody tr th {\n",
       "        vertical-align: top;\n",
       "    }\n",
       "\n",
       "    .dataframe thead th {\n",
       "        text-align: right;\n",
       "    }\n",
       "</style>\n",
       "<table border=\"1\" class=\"dataframe\">\n",
       "  <thead>\n",
       "    <tr style=\"text-align: right;\">\n",
       "      <th></th>\n",
       "      <th>Sales_ID</th>\n",
       "      <th>Year</th>\n",
       "      <th>Selling_Price</th>\n",
       "      <th>km_Driven</th>\n",
       "      <th>Postal_Code</th>\n",
       "      <th>Seats</th>\n",
       "    </tr>\n",
       "  </thead>\n",
       "  <tbody>\n",
       "    <tr>\n",
       "      <th>Sales_ID</th>\n",
       "      <td>1.000000</td>\n",
       "      <td>-0.001304</td>\n",
       "      <td>-0.012125</td>\n",
       "      <td>0.009556</td>\n",
       "      <td>-0.010688</td>\n",
       "      <td>-0.014154</td>\n",
       "    </tr>\n",
       "    <tr>\n",
       "      <th>Year</th>\n",
       "      <td>-0.001304</td>\n",
       "      <td>1.000000</td>\n",
       "      <td>0.412302</td>\n",
       "      <td>-0.428548</td>\n",
       "      <td>0.004898</td>\n",
       "      <td>-0.007923</td>\n",
       "    </tr>\n",
       "    <tr>\n",
       "      <th>Selling_Price</th>\n",
       "      <td>-0.012125</td>\n",
       "      <td>0.412302</td>\n",
       "      <td>1.000000</td>\n",
       "      <td>-0.222158</td>\n",
       "      <td>0.008682</td>\n",
       "      <td>0.041617</td>\n",
       "    </tr>\n",
       "    <tr>\n",
       "      <th>km_Driven</th>\n",
       "      <td>0.009556</td>\n",
       "      <td>-0.428548</td>\n",
       "      <td>-0.222158</td>\n",
       "      <td>1.000000</td>\n",
       "      <td>-0.005680</td>\n",
       "      <td>0.227259</td>\n",
       "    </tr>\n",
       "    <tr>\n",
       "      <th>Postal_Code</th>\n",
       "      <td>-0.010688</td>\n",
       "      <td>0.004898</td>\n",
       "      <td>0.008682</td>\n",
       "      <td>-0.005680</td>\n",
       "      <td>1.000000</td>\n",
       "      <td>-0.004804</td>\n",
       "    </tr>\n",
       "    <tr>\n",
       "      <th>Seats</th>\n",
       "      <td>-0.014154</td>\n",
       "      <td>-0.007923</td>\n",
       "      <td>0.041617</td>\n",
       "      <td>0.227259</td>\n",
       "      <td>-0.004804</td>\n",
       "      <td>1.000000</td>\n",
       "    </tr>\n",
       "  </tbody>\n",
       "</table>\n",
       "</div>"
      ],
      "text/plain": [
       "               Sales_ID      Year  Selling_Price  km_Driven  Postal_Code  \\\n",
       "Sales_ID       1.000000 -0.001304      -0.012125   0.009556    -0.010688   \n",
       "Year          -0.001304  1.000000       0.412302  -0.428548     0.004898   \n",
       "Selling_Price -0.012125  0.412302       1.000000  -0.222158     0.008682   \n",
       "km_Driven      0.009556 -0.428548      -0.222158   1.000000    -0.005680   \n",
       "Postal_Code   -0.010688  0.004898       0.008682  -0.005680     1.000000   \n",
       "Seats         -0.014154 -0.007923       0.041617   0.227259    -0.004804   \n",
       "\n",
       "                  Seats  \n",
       "Sales_ID      -0.014154  \n",
       "Year          -0.007923  \n",
       "Selling_Price  0.041617  \n",
       "km_Driven      0.227259  \n",
       "Postal_Code   -0.004804  \n",
       "Seats          1.000000  "
      ]
     },
     "execution_count": 2,
     "metadata": {},
     "output_type": "execute_result"
    }
   ],
   "source": [
    "df.corr()"
   ]
  },
  {
   "cell_type": "markdown",
   "id": "9ae87846",
   "metadata": {},
   "source": [
    "*From the heatmap we can see that Year and km_Driven are the most significant in predicting the selling price*"
   ]
  },
  {
   "cell_type": "code",
   "execution_count": 75,
   "id": "f1294bdd",
   "metadata": {},
   "outputs": [
    {
     "data": {
      "text/plain": [
       "<AxesSubplot:>"
      ]
     },
     "execution_count": 75,
     "metadata": {},
     "output_type": "execute_result"
    },
    {
     "data": {
      "image/png": "[encoded data removed]",
      "text/plain": [
       "<Figure size 432x288 with 2 Axes>"
      ]
     },
     "metadata": {
      "needs_background": "light"
     },
     "output_type": "display_data"
    }
   ],
   "source": [
    "sns.heatmap(df.corr(), annot=True)"
   ]
  },
  {
   "cell_type": "code",
   "execution_count": 74,
   "id": "9f1457a4",
   "metadata": {},
   "outputs": [
    {
     "data": {
      "text/plain": [
       "<AxesSubplot:xlabel='Mileage_Float', ylabel='Selling_Price'>"
      ]
     },
     "execution_count": 74,
     "metadata": {},
     "output_type": "execute_result"
    },
    {
     "data": {
      "image/png": "[encoded data removed]",
      "text/plain": [
       "<Figure size 432x288 with 1 Axes>"
      ]
     },
     "metadata": {
      "needs_background": "light"
     },
     "output_type": "display_data"
    }
   ],
   "source": [
    "df.plot(x='Mileage_Float', y = 'Selling_Price', kind = 'scatter')"
   ]
  },
  {
   "cell_type": "code",
   "execution_count": 135,
   "id": "b112f2f4",
   "metadata": {
    "scrolled": true
   },
   "outputs": [
    {
     "data": {
      "text/plain": [
       "<AxesSubplot:xlabel='Year', ylabel='Selling_Price'>"
      ]
     },
     "execution_count": 135,
     "metadata": {},
     "output_type": "execute_result"
    },
    {
     "data": {
      "image/png": "[encoded data removed]",
      "text/plain": [
       "<Figure size 432x288 with 1 Axes>"
      ]
     },
     "metadata": {
      "needs_background": "light"
     },
     "output_type": "display_data"
    }
   ],
   "source": [
    "df.plot(x='Year', y = 'Selling_Price', kind = 'scatter')"
   ]
  },
  {
   "cell_type": "markdown",
   "id": "68b26b01",
   "metadata": {},
   "source": [
    "The scatter plot shows that as the year became more recent, the selling price has increased"
   ]
  },
  {
   "cell_type": "code",
   "execution_count": 77,
   "id": "4c670fd0",
   "metadata": {},
   "outputs": [
    {
     "data": {
      "text/plain": [
       "<AxesSubplot:xlabel='km_Driven', ylabel='Selling_Price'>"
      ]
     },
     "execution_count": 77,
     "metadata": {},
     "output_type": "execute_result"
    },
    {
     "data": {
      "image/png": "[encoded data removed]",
      "text/plain": [
       "<Figure size 432x288 with 1 Axes>"
      ]
     },
     "metadata": {
      "needs_background": "light"
     },
     "output_type": "display_data"
    }
   ],
   "source": [
    "df.plot(x='km_Driven', y = 'Selling_Price', kind = 'scatter')"
   ]
  },
  {
   "cell_type": "markdown",
   "id": "9be6a9d6",
   "metadata": {},
   "source": [
    "The scatter plot shows that as the Kilometers Driven increases(km_Driven), Selling Price decreases"
   ]
  },
  {
   "cell_type": "markdown",
   "id": "589ad756",
   "metadata": {},
   "source": [
    "# 2. How well those variables describe the price of the car?"
   ]
  },
  {
   "cell_type": "markdown",
   "id": "94f165ab",
   "metadata": {},
   "source": [
    "###  *Looking at the correlation matrix, we can see the pearson correlation coefficient*"
   ]
  },
  {
   "cell_type": "code",
   "execution_count": 8,
   "id": "ffaca928",
   "metadata": {},
   "outputs": [
    {
     "data": {
      "text/html": [
       "<div>\n",
       "<style scoped>\n",
       "    .dataframe tbody tr th:only-of-type {\n",
       "        vertical-align: middle;\n",
       "    }\n",
       "\n",
       "    .dataframe tbody tr th {\n",
       "        vertical-align: top;\n",
       "    }\n",
       "\n",
       "    .dataframe thead th {\n",
       "        text-align: right;\n",
       "    }\n",
       "</style>\n",
       "<table border=\"1\" class=\"dataframe\">\n",
       "  <thead>\n",
       "    <tr style=\"text-align: right;\">\n",
       "      <th></th>\n",
       "      <th>Sales_ID</th>\n",
       "      <th>Year</th>\n",
       "      <th>Selling_Price</th>\n",
       "      <th>km_Driven</th>\n",
       "      <th>Postal_Code</th>\n",
       "      <th>Seats</th>\n",
       "    </tr>\n",
       "  </thead>\n",
       "  <tbody>\n",
       "    <tr>\n",
       "      <th>Sales_ID</th>\n",
       "      <td>1.000000</td>\n",
       "      <td>-0.001304</td>\n",
       "      <td>-0.012125</td>\n",
       "      <td>0.009556</td>\n",
       "      <td>-0.010688</td>\n",
       "      <td>-0.014154</td>\n",
       "    </tr>\n",
       "    <tr>\n",
       "      <th>Year</th>\n",
       "      <td>-0.001304</td>\n",
       "      <td>1.000000</td>\n",
       "      <td>0.412302</td>\n",
       "      <td>-0.428548</td>\n",
       "      <td>0.004898</td>\n",
       "      <td>-0.007923</td>\n",
       "    </tr>\n",
       "    <tr>\n",
       "      <th>Selling_Price</th>\n",
       "      <td>-0.012125</td>\n",
       "      <td>0.412302</td>\n",
       "      <td>1.000000</td>\n",
       "      <td>-0.222158</td>\n",
       "      <td>0.008682</td>\n",
       "      <td>0.041617</td>\n",
       "    </tr>\n",
       "    <tr>\n",
       "      <th>km_Driven</th>\n",
       "      <td>0.009556</td>\n",
       "      <td>-0.428548</td>\n",
       "      <td>-0.222158</td>\n",
       "      <td>1.000000</td>\n",
       "      <td>-0.005680</td>\n",
       "      <td>0.227259</td>\n",
       "    </tr>\n",
       "    <tr>\n",
       "      <th>Postal_Code</th>\n",
       "      <td>-0.010688</td>\n",
       "      <td>0.004898</td>\n",
       "      <td>0.008682</td>\n",
       "      <td>-0.005680</td>\n",
       "      <td>1.000000</td>\n",
       "      <td>-0.004804</td>\n",
       "    </tr>\n",
       "    <tr>\n",
       "      <th>Seats</th>\n",
       "      <td>-0.014154</td>\n",
       "      <td>-0.007923</td>\n",
       "      <td>0.041617</td>\n",
       "      <td>0.227259</td>\n",
       "      <td>-0.004804</td>\n",
       "      <td>1.000000</td>\n",
       "    </tr>\n",
       "  </tbody>\n",
       "</table>\n",
       "</div>"
      ],
      "text/plain": [
       "               Sales_ID      Year  Selling_Price  km_Driven  Postal_Code  \\\n",
       "Sales_ID       1.000000 -0.001304      -0.012125   0.009556    -0.010688   \n",
       "Year          -0.001304  1.000000       0.412302  -0.428548     0.004898   \n",
       "Selling_Price -0.012125  0.412302       1.000000  -0.222158     0.008682   \n",
       "km_Driven      0.009556 -0.428548      -0.222158   1.000000    -0.005680   \n",
       "Postal_Code   -0.010688  0.004898       0.008682  -0.005680     1.000000   \n",
       "Seats         -0.014154 -0.007923       0.041617   0.227259    -0.004804   \n",
       "\n",
       "                  Seats  \n",
       "Sales_ID      -0.014154  \n",
       "Year          -0.007923  \n",
       "Selling_Price  0.041617  \n",
       "km_Driven      0.227259  \n",
       "Postal_Code   -0.004804  \n",
       "Seats          1.000000  "
      ]
     },
     "execution_count": 8,
     "metadata": {},
     "output_type": "execute_result"
    }
   ],
   "source": [
    "df.corr()"
   ]
  },
  {
   "cell_type": "markdown",
   "id": "11d88e39",
   "metadata": {},
   "source": [
    "# 3. Which Brands are selling the most?"
   ]
  },
  {
   "cell_type": "code",
   "execution_count": 9,
   "id": "89e965bf",
   "metadata": {},
   "outputs": [],
   "source": [
    "df['Brand'] = df['Name'].to_frame()\n",
    "Brand_list = []\n",
    "for i in range(0,len(df['Brand'])):\n",
    "    Brand_list.append(df['Brand'].str.split(\" \",1)[i][0])"
   ]
  },
  {
   "cell_type": "code",
   "execution_count": 10,
   "id": "62a98e4a",
   "metadata": {},
   "outputs": [
    {
     "data": {
      "text/plain": [
       "0             Maruti Swift Dzire VDI\n",
       "1       Skoda Rapid 1.5 TDI Ambition\n",
       "2           Honda City 2017-2020 EXi\n",
       "3          Hyundai i20 Sportz Diesel\n",
       "4             Maruti Swift VXI BSIII\n",
       "                    ...             \n",
       "7901               Hyundai i20 Magna\n",
       "7902           Hyundai Verna CRDi SX\n",
       "7903          Maruti Swift Dzire ZDi\n",
       "7904                 Tata Indigo CR4\n",
       "7905                 Tata Indigo CR4\n",
       "Name: Brand, Length: 7906, dtype: object"
      ]
     },
     "execution_count": 10,
     "metadata": {},
     "output_type": "execute_result"
    }
   ],
   "source": [
    "df['Brand']"
   ]
  },
  {
   "cell_type": "code",
   "execution_count": 12,
   "id": "90a937bc",
   "metadata": {},
   "outputs": [
    {
     "name": "stdout",
     "output_type": "stream",
     "text": [
      "{'Maruti': 2367, 'Skoda': 104, 'Honda': 466, 'Hyundai': 1360, 'Toyota': 452, 'Ford': 388, 'Renault': 228, 'Mahindra': 758, 'Tata': 719, 'Chevrolet': 230, 'Datsun': 65, 'Jeep': 31, 'Mercedes-Benz': 54, 'Mitsubishi': 14, 'Audi': 40, 'Volkswagen': 185, 'BMW': 118, 'Nissan': 81, 'Lexus': 34, 'Jaguar': 71, 'Land': 6, 'MG': 3, 'Volvo': 67, 'Daewoo': 3, 'Kia': 4, 'Fiat': 41, 'Force': 6, 'Ambassador': 4, 'Ashok': 1, 'Isuzu': 5, 'Opel': 1}\n"
     ]
    }
   ],
   "source": [
    "Brand_Dict = {}\n",
    "for x in Brand_list:\n",
    "    if x not in Brand_Dict:\n",
    "        Brand_Dict[x] = 1\n",
    "    else:\n",
    "        Brand_Dict[x]+=1\n",
    "        \n",
    "print(Brand_Dict)"
   ]
  },
  {
   "cell_type": "code",
   "execution_count": 14,
   "id": "d7e522a0",
   "metadata": {},
   "outputs": [],
   "source": [
    "Brand_Series=pd.Series(Brand_Dict)\n",
    "Brand_Series_Index=Brand_Series.reset_index()"
   ]
  },
  {
   "cell_type": "code",
   "execution_count": 15,
   "id": "291f4bb4",
   "metadata": {},
   "outputs": [],
   "source": [
    "Brand_df = Brand_Series.to_frame()"
   ]
  },
  {
   "cell_type": "code",
   "execution_count": 33,
   "id": "3cbad235",
   "metadata": {},
   "outputs": [],
   "source": [
    "Brand_df.columns = [\"sales\"]\n",
    "df.sort_values\n",
    "np.sort(Brand_df['sales'])\n",
    "sorted=Brand_df.sort_values(['sales'], ascending=False)\n"
   ]
  },
  {
   "cell_type": "markdown",
   "id": "8bf3211d",
   "metadata": {},
   "source": [
    "*On Plotting the Brands, we can see that Maruti has the most sales*"
   ]
  },
  {
   "cell_type": "code",
   "execution_count": 34,
   "id": "28d727ab",
   "metadata": {},
   "outputs": [
    {
     "data": {
      "text/plain": [
       "<AxesSubplot:xlabel='Brand'>"
      ]
     },
     "execution_count": 34,
     "metadata": {},
     "output_type": "execute_result"
    },
    {
     "data": {
      "image/png": "[encoded data removed]",
      "text/plain": [
       "<Figure size 432x288 with 1 Axes>"
      ]
     },
     "metadata": {
      "needs_background": "light"
     },
     "output_type": "display_data"
    }
   ],
   "source": [
    "sorted.iloc[:5,:].plot(kind = 'bar', xlabel ='Brand')"
   ]
  },
  {
   "cell_type": "markdown",
   "id": "3d7d7780",
   "metadata": {},
   "source": [
    "# 4. Are there specific locations selling more?"
   ]
  },
  {
   "cell_type": "code",
   "execution_count": 8,
   "id": "bc215912",
   "metadata": {},
   "outputs": [],
   "source": [
    "df_State = pd.read_excel('State_Master.xlsx')\n",
    "df_City=pd.read_excel('City_Master.xlsx')\n",
    "df_StateData = pd.merge(df,df_State,on='State_Code')\n",
    "df_CityData = pd.merge(df_StateData,df_City,on='City_Code')"
   ]
  },
  {
   "cell_type": "code",
   "execution_count": 12,
   "id": "ee5788a9",
   "metadata": {},
   "outputs": [],
   "source": [
    "State_List = []\n",
    "for i in range(0,7906):\n",
    "    State_List.append(df_StateData['State_Name'][i])"
   ]
  },
  {
   "cell_type": "code",
   "execution_count": 13,
   "id": "81dfc840",
   "metadata": {},
   "outputs": [
    {
     "name": "stdout",
     "output_type": "stream",
     "text": [
      "{'Maharashtra': 826, 'Jharkhand': 523, 'Uttar Pradesh': 550, 'Uttarakhand': 280, 'Tamil Nadu': 872, 'Rajasthan': 274, 'Karnataka': 834, 'Andhra Pradesh': 281, 'Sikkim': 257, 'Kerala': 549, 'Gujarat': 792, 'Delhi': 320, 'Punjab': 249, 'Madhya Pradesh': 257, 'West Bengal': 268, 'Telangana': 262, 'Bihar': 257, 'Odisha': 255}\n"
     ]
    }
   ],
   "source": [
    "State_Dict = {}\n",
    "for x in State_List:\n",
    "    if x not in State_Dict:\n",
    "        State_Dict[x] = 1\n",
    "    else:\n",
    "        State_Dict[x]+=1\n",
    "        \n",
    "print(State_Dict)"
   ]
  },
  {
   "cell_type": "code",
   "execution_count": 14,
   "id": "e49f9487",
   "metadata": {},
   "outputs": [
    {
     "data": {
      "text/html": [
       "<div>\n",
       "<style scoped>\n",
       "    .dataframe tbody tr th:only-of-type {\n",
       "        vertical-align: middle;\n",
       "    }\n",
       "\n",
       "    .dataframe tbody tr th {\n",
       "        vertical-align: top;\n",
       "    }\n",
       "\n",
       "    .dataframe thead th {\n",
       "        text-align: right;\n",
       "    }\n",
       "</style>\n",
       "<table border=\"1\" class=\"dataframe\">\n",
       "  <thead>\n",
       "    <tr style=\"text-align: right;\">\n",
       "      <th></th>\n",
       "      <th>State</th>\n",
       "      <th>Sold_Count</th>\n",
       "    </tr>\n",
       "  </thead>\n",
       "  <tbody>\n",
       "    <tr>\n",
       "      <th>0</th>\n",
       "      <td>Maharashtra</td>\n",
       "      <td>826</td>\n",
       "    </tr>\n",
       "    <tr>\n",
       "      <th>1</th>\n",
       "      <td>Jharkhand</td>\n",
       "      <td>523</td>\n",
       "    </tr>\n",
       "    <tr>\n",
       "      <th>2</th>\n",
       "      <td>Uttar Pradesh</td>\n",
       "      <td>550</td>\n",
       "    </tr>\n",
       "    <tr>\n",
       "      <th>3</th>\n",
       "      <td>Uttarakhand</td>\n",
       "      <td>280</td>\n",
       "    </tr>\n",
       "    <tr>\n",
       "      <th>4</th>\n",
       "      <td>Tamil Nadu</td>\n",
       "      <td>872</td>\n",
       "    </tr>\n",
       "    <tr>\n",
       "      <th>5</th>\n",
       "      <td>Rajasthan</td>\n",
       "      <td>274</td>\n",
       "    </tr>\n",
       "    <tr>\n",
       "      <th>6</th>\n",
       "      <td>Karnataka</td>\n",
       "      <td>834</td>\n",
       "    </tr>\n",
       "    <tr>\n",
       "      <th>7</th>\n",
       "      <td>Andhra Pradesh</td>\n",
       "      <td>281</td>\n",
       "    </tr>\n",
       "    <tr>\n",
       "      <th>8</th>\n",
       "      <td>Sikkim</td>\n",
       "      <td>257</td>\n",
       "    </tr>\n",
       "    <tr>\n",
       "      <th>9</th>\n",
       "      <td>Kerala</td>\n",
       "      <td>549</td>\n",
       "    </tr>\n",
       "    <tr>\n",
       "      <th>10</th>\n",
       "      <td>Gujarat</td>\n",
       "      <td>792</td>\n",
       "    </tr>\n",
       "    <tr>\n",
       "      <th>11</th>\n",
       "      <td>Delhi</td>\n",
       "      <td>320</td>\n",
       "    </tr>\n",
       "    <tr>\n",
       "      <th>12</th>\n",
       "      <td>Punjab</td>\n",
       "      <td>249</td>\n",
       "    </tr>\n",
       "    <tr>\n",
       "      <th>13</th>\n",
       "      <td>Madhya Pradesh</td>\n",
       "      <td>257</td>\n",
       "    </tr>\n",
       "    <tr>\n",
       "      <th>14</th>\n",
       "      <td>West Bengal</td>\n",
       "      <td>268</td>\n",
       "    </tr>\n",
       "    <tr>\n",
       "      <th>15</th>\n",
       "      <td>Telangana</td>\n",
       "      <td>262</td>\n",
       "    </tr>\n",
       "    <tr>\n",
       "      <th>16</th>\n",
       "      <td>Bihar</td>\n",
       "      <td>257</td>\n",
       "    </tr>\n",
       "    <tr>\n",
       "      <th>17</th>\n",
       "      <td>Odisha</td>\n",
       "      <td>255</td>\n",
       "    </tr>\n",
       "  </tbody>\n",
       "</table>\n",
       "</div>"
      ],
      "text/plain": [
       "             State  Sold_Count\n",
       "0      Maharashtra         826\n",
       "1        Jharkhand         523\n",
       "2    Uttar Pradesh         550\n",
       "3      Uttarakhand         280\n",
       "4       Tamil Nadu         872\n",
       "5        Rajasthan         274\n",
       "6        Karnataka         834\n",
       "7   Andhra Pradesh         281\n",
       "8           Sikkim         257\n",
       "9           Kerala         549\n",
       "10         Gujarat         792\n",
       "11           Delhi         320\n",
       "12          Punjab         249\n",
       "13  Madhya Pradesh         257\n",
       "14     West Bengal         268\n",
       "15       Telangana         262\n",
       "16           Bihar         257\n",
       "17          Odisha         255"
      ]
     },
     "execution_count": 14,
     "metadata": {},
     "output_type": "execute_result"
    }
   ],
   "source": [
    "State_df = pd.Series(State_Dict).reset_index()\n",
    "State_df.columns = ['State','Sold_Count']\n",
    "State_df"
   ]
  },
  {
   "cell_type": "code",
   "execution_count": 15,
   "id": "49b0ef61",
   "metadata": {},
   "outputs": [
    {
     "data": {
      "text/html": [
       "<div>\n",
       "<style scoped>\n",
       "    .dataframe tbody tr th:only-of-type {\n",
       "        vertical-align: middle;\n",
       "    }\n",
       "\n",
       "    .dataframe tbody tr th {\n",
       "        vertical-align: top;\n",
       "    }\n",
       "\n",
       "    .dataframe thead th {\n",
       "        text-align: right;\n",
       "    }\n",
       "</style>\n",
       "<table border=\"1\" class=\"dataframe\">\n",
       "  <thead>\n",
       "    <tr style=\"text-align: right;\">\n",
       "      <th></th>\n",
       "      <th>State</th>\n",
       "      <th>Sold_Count</th>\n",
       "    </tr>\n",
       "  </thead>\n",
       "  <tbody>\n",
       "    <tr>\n",
       "      <th>4</th>\n",
       "      <td>Tamil Nadu</td>\n",
       "      <td>872</td>\n",
       "    </tr>\n",
       "    <tr>\n",
       "      <th>6</th>\n",
       "      <td>Karnataka</td>\n",
       "      <td>834</td>\n",
       "    </tr>\n",
       "    <tr>\n",
       "      <th>0</th>\n",
       "      <td>Maharashtra</td>\n",
       "      <td>826</td>\n",
       "    </tr>\n",
       "    <tr>\n",
       "      <th>10</th>\n",
       "      <td>Gujarat</td>\n",
       "      <td>792</td>\n",
       "    </tr>\n",
       "    <tr>\n",
       "      <th>2</th>\n",
       "      <td>Uttar Pradesh</td>\n",
       "      <td>550</td>\n",
       "    </tr>\n",
       "    <tr>\n",
       "      <th>9</th>\n",
       "      <td>Kerala</td>\n",
       "      <td>549</td>\n",
       "    </tr>\n",
       "    <tr>\n",
       "      <th>1</th>\n",
       "      <td>Jharkhand</td>\n",
       "      <td>523</td>\n",
       "    </tr>\n",
       "    <tr>\n",
       "      <th>11</th>\n",
       "      <td>Delhi</td>\n",
       "      <td>320</td>\n",
       "    </tr>\n",
       "    <tr>\n",
       "      <th>7</th>\n",
       "      <td>Andhra Pradesh</td>\n",
       "      <td>281</td>\n",
       "    </tr>\n",
       "    <tr>\n",
       "      <th>3</th>\n",
       "      <td>Uttarakhand</td>\n",
       "      <td>280</td>\n",
       "    </tr>\n",
       "    <tr>\n",
       "      <th>5</th>\n",
       "      <td>Rajasthan</td>\n",
       "      <td>274</td>\n",
       "    </tr>\n",
       "    <tr>\n",
       "      <th>14</th>\n",
       "      <td>West Bengal</td>\n",
       "      <td>268</td>\n",
       "    </tr>\n",
       "    <tr>\n",
       "      <th>15</th>\n",
       "      <td>Telangana</td>\n",
       "      <td>262</td>\n",
       "    </tr>\n",
       "    <tr>\n",
       "      <th>8</th>\n",
       "      <td>Sikkim</td>\n",
       "      <td>257</td>\n",
       "    </tr>\n",
       "    <tr>\n",
       "      <th>13</th>\n",
       "      <td>Madhya Pradesh</td>\n",
       "      <td>257</td>\n",
       "    </tr>\n",
       "    <tr>\n",
       "      <th>16</th>\n",
       "      <td>Bihar</td>\n",
       "      <td>257</td>\n",
       "    </tr>\n",
       "    <tr>\n",
       "      <th>17</th>\n",
       "      <td>Odisha</td>\n",
       "      <td>255</td>\n",
       "    </tr>\n",
       "    <tr>\n",
       "      <th>12</th>\n",
       "      <td>Punjab</td>\n",
       "      <td>249</td>\n",
       "    </tr>\n",
       "  </tbody>\n",
       "</table>\n",
       "</div>"
      ],
      "text/plain": [
       "             State  Sold_Count\n",
       "4       Tamil Nadu         872\n",
       "6        Karnataka         834\n",
       "0      Maharashtra         826\n",
       "10         Gujarat         792\n",
       "2    Uttar Pradesh         550\n",
       "9           Kerala         549\n",
       "1        Jharkhand         523\n",
       "11           Delhi         320\n",
       "7   Andhra Pradesh         281\n",
       "3      Uttarakhand         280\n",
       "5        Rajasthan         274\n",
       "14     West Bengal         268\n",
       "15       Telangana         262\n",
       "8           Sikkim         257\n",
       "13  Madhya Pradesh         257\n",
       "16           Bihar         257\n",
       "17          Odisha         255\n",
       "12          Punjab         249"
      ]
     },
     "execution_count": 15,
     "metadata": {},
     "output_type": "execute_result"
    }
   ],
   "source": [
    "sortedState=State_df.sort_values(['Sold_Count'], ascending=False)\n",
    "sortedState"
   ]
  },
  {
   "cell_type": "code",
   "execution_count": 17,
   "id": "2fbe4136",
   "metadata": {},
   "outputs": [
    {
     "data": {
      "text/plain": [
       "<AxesSubplot:xlabel='State'>"
      ]
     },
     "execution_count": 17,
     "metadata": {},
     "output_type": "execute_result"
    },
    {
     "data": {
      "image/png": "[encoded data removed]",
      "text/plain": [
       "<Figure size 432x288 with 1 Axes>"
      ]
     },
     "metadata": {
      "needs_background": "light"
     },
     "output_type": "display_data"
    }
   ],
   "source": [
    "sortedState.iloc[:5,:].plot(kind = 'bar', xlabel ='State', x = 'State')"
   ]
  },
  {
   "cell_type": "markdown",
   "id": "541f65b5",
   "metadata": {},
   "source": [
    "### *We can see that Tamil Nadu is the state with most sales*"
   ]
  },
  {
   "cell_type": "code",
   "execution_count": 18,
   "id": "ccadcf7a",
   "metadata": {
    "scrolled": true
   },
   "outputs": [
    {
     "data": {
      "text/html": [
       "<div>\n",
       "<style scoped>\n",
       "    .dataframe tbody tr th:only-of-type {\n",
       "        vertical-align: middle;\n",
       "    }\n",
       "\n",
       "    .dataframe tbody tr th {\n",
       "        vertical-align: top;\n",
       "    }\n",
       "\n",
       "    .dataframe thead th {\n",
       "        text-align: right;\n",
       "    }\n",
       "</style>\n",
       "<table border=\"1\" class=\"dataframe\">\n",
       "  <thead>\n",
       "    <tr style=\"text-align: right;\">\n",
       "      <th></th>\n",
       "      <th>Sales_ID</th>\n",
       "      <th>Name</th>\n",
       "      <th>Year</th>\n",
       "      <th>Selling_Price</th>\n",
       "      <th>km_Driven</th>\n",
       "      <th>City_Code</th>\n",
       "      <th>State_Code_x</th>\n",
       "      <th>Postal_Code</th>\n",
       "      <th>Fuel</th>\n",
       "      <th>Seller_Type</th>\n",
       "      <th>Transmission</th>\n",
       "      <th>Owner</th>\n",
       "      <th>Mileage</th>\n",
       "      <th>Engine</th>\n",
       "      <th>Max_Power</th>\n",
       "      <th>Seats</th>\n",
       "      <th>State_Name</th>\n",
       "      <th>City_Name</th>\n",
       "      <th>State_Code_y</th>\n",
       "    </tr>\n",
       "  </thead>\n",
       "  <tbody>\n",
       "    <tr>\n",
       "      <th>0</th>\n",
       "      <td>1</td>\n",
       "      <td>Maruti Swift Dzire VDI</td>\n",
       "      <td>2014</td>\n",
       "      <td>450000</td>\n",
       "      <td>145500</td>\n",
       "      <td>CT01</td>\n",
       "      <td>ST15</td>\n",
       "      <td>400001</td>\n",
       "      <td>Diesel</td>\n",
       "      <td>Individual</td>\n",
       "      <td>Manual</td>\n",
       "      <td>First Owner</td>\n",
       "      <td>23.4 kmpl</td>\n",
       "      <td>1248 CC</td>\n",
       "      <td>74 bhp</td>\n",
       "      <td>5</td>\n",
       "      <td>Maharashtra</td>\n",
       "      <td>Mumbai</td>\n",
       "      <td>ST15</td>\n",
       "    </tr>\n",
       "    <tr>\n",
       "      <th>1</th>\n",
       "      <td>18</td>\n",
       "      <td>Hyundai i20 1.4 CRDi Asta</td>\n",
       "      <td>2012</td>\n",
       "      <td>500000</td>\n",
       "      <td>53000</td>\n",
       "      <td>CT01</td>\n",
       "      <td>ST15</td>\n",
       "      <td>400001</td>\n",
       "      <td>Diesel</td>\n",
       "      <td>Individual</td>\n",
       "      <td>Manual</td>\n",
       "      <td>Second Owner</td>\n",
       "      <td>23.0 kmpl</td>\n",
       "      <td>1396 CC</td>\n",
       "      <td>90 bhp</td>\n",
       "      <td>5</td>\n",
       "      <td>Maharashtra</td>\n",
       "      <td>Mumbai</td>\n",
       "      <td>ST15</td>\n",
       "    </tr>\n",
       "    <tr>\n",
       "      <th>2</th>\n",
       "      <td>48</td>\n",
       "      <td>Toyota Fortuner 4x4 MT</td>\n",
       "      <td>2014</td>\n",
       "      <td>1500000</td>\n",
       "      <td>77000</td>\n",
       "      <td>CT01</td>\n",
       "      <td>ST15</td>\n",
       "      <td>400001</td>\n",
       "      <td>Diesel</td>\n",
       "      <td>Dealer</td>\n",
       "      <td>Manual</td>\n",
       "      <td>First Owner</td>\n",
       "      <td>12.55 kmpl</td>\n",
       "      <td>2982 CC</td>\n",
       "      <td>168.5 bhp</td>\n",
       "      <td>7</td>\n",
       "      <td>Maharashtra</td>\n",
       "      <td>Mumbai</td>\n",
       "      <td>ST15</td>\n",
       "    </tr>\n",
       "    <tr>\n",
       "      <th>3</th>\n",
       "      <td>71</td>\n",
       "      <td>Volkswagen Ameo 1.5 TDI Comfortline</td>\n",
       "      <td>2017</td>\n",
       "      <td>500000</td>\n",
       "      <td>80000</td>\n",
       "      <td>CT01</td>\n",
       "      <td>ST15</td>\n",
       "      <td>400001</td>\n",
       "      <td>Diesel</td>\n",
       "      <td>Individual</td>\n",
       "      <td>Manual</td>\n",
       "      <td>First Owner</td>\n",
       "      <td>21.66 kmpl</td>\n",
       "      <td>1498 CC</td>\n",
       "      <td>108.62 bhp</td>\n",
       "      <td>5</td>\n",
       "      <td>Maharashtra</td>\n",
       "      <td>Mumbai</td>\n",
       "      <td>ST15</td>\n",
       "    </tr>\n",
       "    <tr>\n",
       "      <th>4</th>\n",
       "      <td>121</td>\n",
       "      <td>Nissan Terrano XL 85 PS</td>\n",
       "      <td>2014</td>\n",
       "      <td>400000</td>\n",
       "      <td>70000</td>\n",
       "      <td>CT01</td>\n",
       "      <td>ST15</td>\n",
       "      <td>400001</td>\n",
       "      <td>Diesel</td>\n",
       "      <td>Individual</td>\n",
       "      <td>Manual</td>\n",
       "      <td>Third Owner</td>\n",
       "      <td>20.45 kmpl</td>\n",
       "      <td>1461 CC</td>\n",
       "      <td>83.8 bhp</td>\n",
       "      <td>5</td>\n",
       "      <td>Maharashtra</td>\n",
       "      <td>Mumbai</td>\n",
       "      <td>ST15</td>\n",
       "    </tr>\n",
       "    <tr>\n",
       "      <th>...</th>\n",
       "      <td>...</td>\n",
       "      <td>...</td>\n",
       "      <td>...</td>\n",
       "      <td>...</td>\n",
       "      <td>...</td>\n",
       "      <td>...</td>\n",
       "      <td>...</td>\n",
       "      <td>...</td>\n",
       "      <td>...</td>\n",
       "      <td>...</td>\n",
       "      <td>...</td>\n",
       "      <td>...</td>\n",
       "      <td>...</td>\n",
       "      <td>...</td>\n",
       "      <td>...</td>\n",
       "      <td>...</td>\n",
       "      <td>...</td>\n",
       "      <td>...</td>\n",
       "      <td>...</td>\n",
       "    </tr>\n",
       "    <tr>\n",
       "      <th>7901</th>\n",
       "      <td>8026</td>\n",
       "      <td>Maruti 800 AC</td>\n",
       "      <td>1998</td>\n",
       "      <td>35000</td>\n",
       "      <td>40000</td>\n",
       "      <td>CT15</td>\n",
       "      <td>ST20</td>\n",
       "      <td>751022</td>\n",
       "      <td>Petrol</td>\n",
       "      <td>Individual</td>\n",
       "      <td>Manual</td>\n",
       "      <td>Second Owner</td>\n",
       "      <td>16.1 kmpl</td>\n",
       "      <td>796 CC</td>\n",
       "      <td>37 bhp</td>\n",
       "      <td>4</td>\n",
       "      <td>Odisha</td>\n",
       "      <td>Bhubaneshwar</td>\n",
       "      <td>ST20</td>\n",
       "    </tr>\n",
       "    <tr>\n",
       "      <th>7902</th>\n",
       "      <td>8027</td>\n",
       "      <td>Tata Indigo CS LX (TDI) BS III</td>\n",
       "      <td>2008</td>\n",
       "      <td>100000</td>\n",
       "      <td>120000</td>\n",
       "      <td>CT15</td>\n",
       "      <td>ST20</td>\n",
       "      <td>751022</td>\n",
       "      <td>Diesel</td>\n",
       "      <td>Individual</td>\n",
       "      <td>Manual</td>\n",
       "      <td>First Owner</td>\n",
       "      <td>19.09 kmpl</td>\n",
       "      <td>1396 CC</td>\n",
       "      <td>69 bhp</td>\n",
       "      <td>5</td>\n",
       "      <td>Odisha</td>\n",
       "      <td>Bhubaneshwar</td>\n",
       "      <td>ST20</td>\n",
       "    </tr>\n",
       "    <tr>\n",
       "      <th>7903</th>\n",
       "      <td>8032</td>\n",
       "      <td>Chevrolet Enjoy TCDi LT 7 Seater</td>\n",
       "      <td>2014</td>\n",
       "      <td>275000</td>\n",
       "      <td>195000</td>\n",
       "      <td>CT15</td>\n",
       "      <td>ST20</td>\n",
       "      <td>751022</td>\n",
       "      <td>Diesel</td>\n",
       "      <td>Individual</td>\n",
       "      <td>Manual</td>\n",
       "      <td>First Owner</td>\n",
       "      <td>18.2 kmpl</td>\n",
       "      <td>1248 CC</td>\n",
       "      <td>73.8 bhp</td>\n",
       "      <td>7</td>\n",
       "      <td>Odisha</td>\n",
       "      <td>Bhubaneshwar</td>\n",
       "      <td>ST20</td>\n",
       "    </tr>\n",
       "    <tr>\n",
       "      <th>7904</th>\n",
       "      <td>8061</td>\n",
       "      <td>Honda City i VTEC SV</td>\n",
       "      <td>2015</td>\n",
       "      <td>575000</td>\n",
       "      <td>9599</td>\n",
       "      <td>CT15</td>\n",
       "      <td>ST20</td>\n",
       "      <td>751022</td>\n",
       "      <td>Petrol</td>\n",
       "      <td>Dealer</td>\n",
       "      <td>Manual</td>\n",
       "      <td>First Owner</td>\n",
       "      <td>17.8 kmpl</td>\n",
       "      <td>1497 CC</td>\n",
       "      <td>117.3 bhp</td>\n",
       "      <td>5</td>\n",
       "      <td>Odisha</td>\n",
       "      <td>Bhubaneshwar</td>\n",
       "      <td>ST20</td>\n",
       "    </tr>\n",
       "    <tr>\n",
       "      <th>7905</th>\n",
       "      <td>8093</td>\n",
       "      <td>Hyundai i20 2015-2017 Asta Option 1.4 CRDi</td>\n",
       "      <td>2017</td>\n",
       "      <td>780000</td>\n",
       "      <td>28000</td>\n",
       "      <td>CT15</td>\n",
       "      <td>ST20</td>\n",
       "      <td>751022</td>\n",
       "      <td>Diesel</td>\n",
       "      <td>Individual</td>\n",
       "      <td>Manual</td>\n",
       "      <td>First Owner</td>\n",
       "      <td>22.54 kmpl</td>\n",
       "      <td>1396 CC</td>\n",
       "      <td>88.73 bhp</td>\n",
       "      <td>5</td>\n",
       "      <td>Odisha</td>\n",
       "      <td>Bhubaneshwar</td>\n",
       "      <td>ST20</td>\n",
       "    </tr>\n",
       "  </tbody>\n",
       "</table>\n",
       "<p>7906 rows × 19 columns</p>\n",
       "</div>"
      ],
      "text/plain": [
       "      Sales_ID                                        Name  Year  \\\n",
       "0            1                      Maruti Swift Dzire VDI  2014   \n",
       "1           18                   Hyundai i20 1.4 CRDi Asta  2012   \n",
       "2           48                      Toyota Fortuner 4x4 MT  2014   \n",
       "3           71         Volkswagen Ameo 1.5 TDI Comfortline  2017   \n",
       "4          121                     Nissan Terrano XL 85 PS  2014   \n",
       "...        ...                                         ...   ...   \n",
       "7901      8026                               Maruti 800 AC  1998   \n",
       "7902      8027              Tata Indigo CS LX (TDI) BS III  2008   \n",
       "7903      8032            Chevrolet Enjoy TCDi LT 7 Seater  2014   \n",
       "7904      8061                        Honda City i VTEC SV  2015   \n",
       "7905      8093  Hyundai i20 2015-2017 Asta Option 1.4 CRDi  2017   \n",
       "\n",
       "      Selling_Price  km_Driven City_Code State_Code_x  Postal_Code    Fuel  \\\n",
       "0            450000     145500      CT01         ST15       400001  Diesel   \n",
       "1            500000      53000      CT01         ST15       400001  Diesel   \n",
       "2           1500000      77000      CT01         ST15       400001  Diesel   \n",
       "3            500000      80000      CT01         ST15       400001  Diesel   \n",
       "4            400000      70000      CT01         ST15       400001  Diesel   \n",
       "...             ...        ...       ...          ...          ...     ...   \n",
       "7901          35000      40000      CT15         ST20       751022  Petrol   \n",
       "7902         100000     120000      CT15         ST20       751022  Diesel   \n",
       "7903         275000     195000      CT15         ST20       751022  Diesel   \n",
       "7904         575000       9599      CT15         ST20       751022  Petrol   \n",
       "7905         780000      28000      CT15         ST20       751022  Diesel   \n",
       "\n",
       "     Seller_Type Transmission         Owner     Mileage   Engine   Max_Power  \\\n",
       "0     Individual       Manual   First Owner   23.4 kmpl  1248 CC      74 bhp   \n",
       "1     Individual       Manual  Second Owner   23.0 kmpl  1396 CC      90 bhp   \n",
       "2         Dealer       Manual   First Owner  12.55 kmpl  2982 CC   168.5 bhp   \n",
       "3     Individual       Manual   First Owner  21.66 kmpl  1498 CC  108.62 bhp   \n",
       "4     Individual       Manual   Third Owner  20.45 kmpl  1461 CC    83.8 bhp   \n",
       "...          ...          ...           ...         ...      ...         ...   \n",
       "7901  Individual       Manual  Second Owner   16.1 kmpl   796 CC      37 bhp   \n",
       "7902  Individual       Manual   First Owner  19.09 kmpl  1396 CC      69 bhp   \n",
       "7903  Individual       Manual   First Owner   18.2 kmpl  1248 CC    73.8 bhp   \n",
       "7904      Dealer       Manual   First Owner   17.8 kmpl  1497 CC   117.3 bhp   \n",
       "7905  Individual       Manual   First Owner  22.54 kmpl  1396 CC   88.73 bhp   \n",
       "\n",
       "      Seats   State_Name     City_Name State_Code_y  \n",
       "0         5  Maharashtra        Mumbai         ST15  \n",
       "1         5  Maharashtra        Mumbai         ST15  \n",
       "2         7  Maharashtra        Mumbai         ST15  \n",
       "3         5  Maharashtra        Mumbai         ST15  \n",
       "4         5  Maharashtra        Mumbai         ST15  \n",
       "...     ...          ...           ...          ...  \n",
       "7901      4       Odisha  Bhubaneshwar         ST20  \n",
       "7902      5       Odisha  Bhubaneshwar         ST20  \n",
       "7903      7       Odisha  Bhubaneshwar         ST20  \n",
       "7904      5       Odisha  Bhubaneshwar         ST20  \n",
       "7905      5       Odisha  Bhubaneshwar         ST20  \n",
       "\n",
       "[7906 rows x 19 columns]"
      ]
     },
     "execution_count": 18,
     "metadata": {},
     "output_type": "execute_result"
    }
   ],
   "source": [
    "df_CityData"
   ]
  },
  {
   "cell_type": "code",
   "execution_count": 19,
   "id": "0b930bec",
   "metadata": {},
   "outputs": [],
   "source": [
    "City_List = []\n",
    "for i in range(0,7906):\n",
    "    City_List.append(df_CityData['City_Name'][i])"
   ]
  },
  {
   "cell_type": "code",
   "execution_count": 20,
   "id": "20e3287a",
   "metadata": {},
   "outputs": [
    {
     "name": "stdout",
     "output_type": "stream",
     "text": [
      "{'Mumbai': 298, 'Pune': 250, 'Aurangabad': 278, 'Ranchi': 276, 'Jamshedpur': 247, 'Noida': 303, 'kanpur': 247, 'Dehradun': 280, 'Chennai': 285, 'Coimbatore': 294, 'Vellore': 293, 'Jaipur': 274, 'Bangalore': 276, 'Mysore': 279, 'Mangalore': 279, 'Nellore': 281, 'Gangtok': 257, 'Kochi': 279, 'Thrissur': 270, 'Vadodara': 272, 'Surat': 242, 'Ahmedabad': 278, 'Delhi': 320, 'Ludhiana': 249, 'Indore': 257, 'Kolkata': 268, 'Hyderabad': 262, 'Patna': 257, 'Bhubaneshwar': 255}\n"
     ]
    }
   ],
   "source": [
    "City_Dict = {}\n",
    "for x in City_List:\n",
    "    if x not in City_Dict:\n",
    "        City_Dict[x] = 1\n",
    "    else:\n",
    "        City_Dict[x]+=1\n",
    "        \n",
    "print(City_Dict)"
   ]
  },
  {
   "cell_type": "code",
   "execution_count": 128,
   "id": "11cb6600",
   "metadata": {},
   "outputs": [
    {
     "data": {
      "text/html": [
       "<div>\n",
       "<style scoped>\n",
       "    .dataframe tbody tr th:only-of-type {\n",
       "        vertical-align: middle;\n",
       "    }\n",
       "\n",
       "    .dataframe tbody tr th {\n",
       "        vertical-align: top;\n",
       "    }\n",
       "\n",
       "    .dataframe thead th {\n",
       "        text-align: right;\n",
       "    }\n",
       "</style>\n",
       "<table border=\"1\" class=\"dataframe\">\n",
       "  <thead>\n",
       "    <tr style=\"text-align: right;\">\n",
       "      <th></th>\n",
       "      <th>City</th>\n",
       "      <th>Sold_Count_City</th>\n",
       "    </tr>\n",
       "  </thead>\n",
       "  <tbody>\n",
       "    <tr>\n",
       "      <th>0</th>\n",
       "      <td>Mumbai</td>\n",
       "      <td>298</td>\n",
       "    </tr>\n",
       "    <tr>\n",
       "      <th>1</th>\n",
       "      <td>Pune</td>\n",
       "      <td>250</td>\n",
       "    </tr>\n",
       "    <tr>\n",
       "      <th>2</th>\n",
       "      <td>Aurangabad</td>\n",
       "      <td>278</td>\n",
       "    </tr>\n",
       "    <tr>\n",
       "      <th>3</th>\n",
       "      <td>Ranchi</td>\n",
       "      <td>276</td>\n",
       "    </tr>\n",
       "    <tr>\n",
       "      <th>4</th>\n",
       "      <td>Jamshedpur</td>\n",
       "      <td>247</td>\n",
       "    </tr>\n",
       "    <tr>\n",
       "      <th>5</th>\n",
       "      <td>Noida</td>\n",
       "      <td>303</td>\n",
       "    </tr>\n",
       "    <tr>\n",
       "      <th>6</th>\n",
       "      <td>kanpur</td>\n",
       "      <td>247</td>\n",
       "    </tr>\n",
       "    <tr>\n",
       "      <th>7</th>\n",
       "      <td>Dehradun</td>\n",
       "      <td>280</td>\n",
       "    </tr>\n",
       "    <tr>\n",
       "      <th>8</th>\n",
       "      <td>Chennai</td>\n",
       "      <td>285</td>\n",
       "    </tr>\n",
       "    <tr>\n",
       "      <th>9</th>\n",
       "      <td>Coimbatore</td>\n",
       "      <td>294</td>\n",
       "    </tr>\n",
       "    <tr>\n",
       "      <th>10</th>\n",
       "      <td>Vellore</td>\n",
       "      <td>293</td>\n",
       "    </tr>\n",
       "    <tr>\n",
       "      <th>11</th>\n",
       "      <td>Jaipur</td>\n",
       "      <td>274</td>\n",
       "    </tr>\n",
       "    <tr>\n",
       "      <th>12</th>\n",
       "      <td>Bangalore</td>\n",
       "      <td>276</td>\n",
       "    </tr>\n",
       "    <tr>\n",
       "      <th>13</th>\n",
       "      <td>Mysore</td>\n",
       "      <td>279</td>\n",
       "    </tr>\n",
       "    <tr>\n",
       "      <th>14</th>\n",
       "      <td>Mangalore</td>\n",
       "      <td>279</td>\n",
       "    </tr>\n",
       "    <tr>\n",
       "      <th>15</th>\n",
       "      <td>Nellore</td>\n",
       "      <td>281</td>\n",
       "    </tr>\n",
       "    <tr>\n",
       "      <th>16</th>\n",
       "      <td>Gangtok</td>\n",
       "      <td>257</td>\n",
       "    </tr>\n",
       "    <tr>\n",
       "      <th>17</th>\n",
       "      <td>Kochi</td>\n",
       "      <td>279</td>\n",
       "    </tr>\n",
       "    <tr>\n",
       "      <th>18</th>\n",
       "      <td>Thrissur</td>\n",
       "      <td>270</td>\n",
       "    </tr>\n",
       "    <tr>\n",
       "      <th>19</th>\n",
       "      <td>Vadodara</td>\n",
       "      <td>272</td>\n",
       "    </tr>\n",
       "    <tr>\n",
       "      <th>20</th>\n",
       "      <td>Surat</td>\n",
       "      <td>242</td>\n",
       "    </tr>\n",
       "    <tr>\n",
       "      <th>21</th>\n",
       "      <td>Ahmedabad</td>\n",
       "      <td>278</td>\n",
       "    </tr>\n",
       "    <tr>\n",
       "      <th>22</th>\n",
       "      <td>Delhi</td>\n",
       "      <td>320</td>\n",
       "    </tr>\n",
       "    <tr>\n",
       "      <th>23</th>\n",
       "      <td>Ludhiana</td>\n",
       "      <td>249</td>\n",
       "    </tr>\n",
       "    <tr>\n",
       "      <th>24</th>\n",
       "      <td>Indore</td>\n",
       "      <td>257</td>\n",
       "    </tr>\n",
       "    <tr>\n",
       "      <th>25</th>\n",
       "      <td>Kolkata</td>\n",
       "      <td>268</td>\n",
       "    </tr>\n",
       "    <tr>\n",
       "      <th>26</th>\n",
       "      <td>Hyderabad</td>\n",
       "      <td>262</td>\n",
       "    </tr>\n",
       "    <tr>\n",
       "      <th>27</th>\n",
       "      <td>Patna</td>\n",
       "      <td>257</td>\n",
       "    </tr>\n",
       "    <tr>\n",
       "      <th>28</th>\n",
       "      <td>Bhubaneshwar</td>\n",
       "      <td>255</td>\n",
       "    </tr>\n",
       "  </tbody>\n",
       "</table>\n",
       "</div>"
      ],
      "text/plain": [
       "            City  Sold_Count_City\n",
       "0         Mumbai              298\n",
       "1           Pune              250\n",
       "2     Aurangabad              278\n",
       "3         Ranchi              276\n",
       "4     Jamshedpur              247\n",
       "5          Noida              303\n",
       "6         kanpur              247\n",
       "7       Dehradun              280\n",
       "8        Chennai              285\n",
       "9     Coimbatore              294\n",
       "10       Vellore              293\n",
       "11        Jaipur              274\n",
       "12     Bangalore              276\n",
       "13        Mysore              279\n",
       "14     Mangalore              279\n",
       "15       Nellore              281\n",
       "16       Gangtok              257\n",
       "17         Kochi              279\n",
       "18      Thrissur              270\n",
       "19      Vadodara              272\n",
       "20         Surat              242\n",
       "21     Ahmedabad              278\n",
       "22         Delhi              320\n",
       "23      Ludhiana              249\n",
       "24        Indore              257\n",
       "25       Kolkata              268\n",
       "26     Hyderabad              262\n",
       "27         Patna              257\n",
       "28  Bhubaneshwar              255"
      ]
     },
     "execution_count": 128,
     "metadata": {},
     "output_type": "execute_result"
    }
   ],
   "source": [
    "City_df = pd.Series(City_Dict).reset_index()\n",
    "City_df.columns = ['City','Sold_Count_City']\n",
    "City_df"
   ]
  },
  {
   "cell_type": "code",
   "execution_count": 132,
   "id": "504d4686",
   "metadata": {},
   "outputs": [
    {
     "data": {
      "text/html": [
       "<div>\n",
       "<style scoped>\n",
       "    .dataframe tbody tr th:only-of-type {\n",
       "        vertical-align: middle;\n",
       "    }\n",
       "\n",
       "    .dataframe tbody tr th {\n",
       "        vertical-align: top;\n",
       "    }\n",
       "\n",
       "    .dataframe thead th {\n",
       "        text-align: right;\n",
       "    }\n",
       "</style>\n",
       "<table border=\"1\" class=\"dataframe\">\n",
       "  <thead>\n",
       "    <tr style=\"text-align: right;\">\n",
       "      <th></th>\n",
       "      <th>City</th>\n",
       "      <th>Sold_Count_City</th>\n",
       "    </tr>\n",
       "  </thead>\n",
       "  <tbody>\n",
       "    <tr>\n",
       "      <th>22</th>\n",
       "      <td>Delhi</td>\n",
       "      <td>320</td>\n",
       "    </tr>\n",
       "    <tr>\n",
       "      <th>5</th>\n",
       "      <td>Noida</td>\n",
       "      <td>303</td>\n",
       "    </tr>\n",
       "    <tr>\n",
       "      <th>0</th>\n",
       "      <td>Mumbai</td>\n",
       "      <td>298</td>\n",
       "    </tr>\n",
       "    <tr>\n",
       "      <th>9</th>\n",
       "      <td>Coimbatore</td>\n",
       "      <td>294</td>\n",
       "    </tr>\n",
       "    <tr>\n",
       "      <th>10</th>\n",
       "      <td>Vellore</td>\n",
       "      <td>293</td>\n",
       "    </tr>\n",
       "    <tr>\n",
       "      <th>8</th>\n",
       "      <td>Chennai</td>\n",
       "      <td>285</td>\n",
       "    </tr>\n",
       "    <tr>\n",
       "      <th>15</th>\n",
       "      <td>Nellore</td>\n",
       "      <td>281</td>\n",
       "    </tr>\n",
       "    <tr>\n",
       "      <th>7</th>\n",
       "      <td>Dehradun</td>\n",
       "      <td>280</td>\n",
       "    </tr>\n",
       "    <tr>\n",
       "      <th>17</th>\n",
       "      <td>Kochi</td>\n",
       "      <td>279</td>\n",
       "    </tr>\n",
       "    <tr>\n",
       "      <th>13</th>\n",
       "      <td>Mysore</td>\n",
       "      <td>279</td>\n",
       "    </tr>\n",
       "    <tr>\n",
       "      <th>14</th>\n",
       "      <td>Mangalore</td>\n",
       "      <td>279</td>\n",
       "    </tr>\n",
       "    <tr>\n",
       "      <th>21</th>\n",
       "      <td>Ahmedabad</td>\n",
       "      <td>278</td>\n",
       "    </tr>\n",
       "    <tr>\n",
       "      <th>2</th>\n",
       "      <td>Aurangabad</td>\n",
       "      <td>278</td>\n",
       "    </tr>\n",
       "    <tr>\n",
       "      <th>3</th>\n",
       "      <td>Ranchi</td>\n",
       "      <td>276</td>\n",
       "    </tr>\n",
       "    <tr>\n",
       "      <th>12</th>\n",
       "      <td>Bangalore</td>\n",
       "      <td>276</td>\n",
       "    </tr>\n",
       "    <tr>\n",
       "      <th>11</th>\n",
       "      <td>Jaipur</td>\n",
       "      <td>274</td>\n",
       "    </tr>\n",
       "    <tr>\n",
       "      <th>19</th>\n",
       "      <td>Vadodara</td>\n",
       "      <td>272</td>\n",
       "    </tr>\n",
       "    <tr>\n",
       "      <th>18</th>\n",
       "      <td>Thrissur</td>\n",
       "      <td>270</td>\n",
       "    </tr>\n",
       "    <tr>\n",
       "      <th>25</th>\n",
       "      <td>Kolkata</td>\n",
       "      <td>268</td>\n",
       "    </tr>\n",
       "    <tr>\n",
       "      <th>26</th>\n",
       "      <td>Hyderabad</td>\n",
       "      <td>262</td>\n",
       "    </tr>\n",
       "    <tr>\n",
       "      <th>24</th>\n",
       "      <td>Indore</td>\n",
       "      <td>257</td>\n",
       "    </tr>\n",
       "    <tr>\n",
       "      <th>27</th>\n",
       "      <td>Patna</td>\n",
       "      <td>257</td>\n",
       "    </tr>\n",
       "    <tr>\n",
       "      <th>16</th>\n",
       "      <td>Gangtok</td>\n",
       "      <td>257</td>\n",
       "    </tr>\n",
       "    <tr>\n",
       "      <th>28</th>\n",
       "      <td>Bhubaneshwar</td>\n",
       "      <td>255</td>\n",
       "    </tr>\n",
       "    <tr>\n",
       "      <th>1</th>\n",
       "      <td>Pune</td>\n",
       "      <td>250</td>\n",
       "    </tr>\n",
       "    <tr>\n",
       "      <th>23</th>\n",
       "      <td>Ludhiana</td>\n",
       "      <td>249</td>\n",
       "    </tr>\n",
       "    <tr>\n",
       "      <th>4</th>\n",
       "      <td>Jamshedpur</td>\n",
       "      <td>247</td>\n",
       "    </tr>\n",
       "    <tr>\n",
       "      <th>6</th>\n",
       "      <td>kanpur</td>\n",
       "      <td>247</td>\n",
       "    </tr>\n",
       "    <tr>\n",
       "      <th>20</th>\n",
       "      <td>Surat</td>\n",
       "      <td>242</td>\n",
       "    </tr>\n",
       "  </tbody>\n",
       "</table>\n",
       "</div>"
      ],
      "text/plain": [
       "            City  Sold_Count_City\n",
       "22         Delhi              320\n",
       "5          Noida              303\n",
       "0         Mumbai              298\n",
       "9     Coimbatore              294\n",
       "10       Vellore              293\n",
       "8        Chennai              285\n",
       "15       Nellore              281\n",
       "7       Dehradun              280\n",
       "17         Kochi              279\n",
       "13        Mysore              279\n",
       "14     Mangalore              279\n",
       "21     Ahmedabad              278\n",
       "2     Aurangabad              278\n",
       "3         Ranchi              276\n",
       "12     Bangalore              276\n",
       "11        Jaipur              274\n",
       "19      Vadodara              272\n",
       "18      Thrissur              270\n",
       "25       Kolkata              268\n",
       "26     Hyderabad              262\n",
       "24        Indore              257\n",
       "27         Patna              257\n",
       "16       Gangtok              257\n",
       "28  Bhubaneshwar              255\n",
       "1           Pune              250\n",
       "23      Ludhiana              249\n",
       "4     Jamshedpur              247\n",
       "6         kanpur              247\n",
       "20         Surat              242"
      ]
     },
     "execution_count": 132,
     "metadata": {},
     "output_type": "execute_result"
    }
   ],
   "source": [
    "sortedCity=City_df.sort_values(['Sold_Count_City'], ascending=False)\n",
    "sortedCity"
   ]
  },
  {
   "cell_type": "code",
   "execution_count": 133,
   "id": "7f148c03",
   "metadata": {},
   "outputs": [
    {
     "data": {
      "text/plain": [
       "<AxesSubplot:xlabel='City'>"
      ]
     },
     "execution_count": 133,
     "metadata": {},
     "output_type": "execute_result"
    },
    {
     "data": {
      "image/png": "[encoded data removed]",
      "text/plain": [
       "<Figure size 432x288 with 1 Axes>"
      ]
     },
     "metadata": {
      "needs_background": "light"
     },
     "output_type": "display_data"
    }
   ],
   "source": [
    "sortedCity.iloc[:5,:].plot(kind = 'bar', xlabel ='City', x = 'City')"
   ]
  },
  {
   "cell_type": "markdown",
   "id": "eaddc7ac",
   "metadata": {},
   "source": [
    "### *We can see that Delhi is the city with the most sales*"
   ]
  },
  {
   "cell_type": "code",
   "execution_count": 112,
   "id": "1236fa84",
   "metadata": {},
   "outputs": [
    {
     "name": "stdout",
     "output_type": "stream",
     "text": [
      "<class 'pandas.core.frame.DataFrame'>\n",
      "Int64Index: 7906 entries, 0 to 7905\n",
      "Data columns (total 20 columns):\n",
      " #   Column         Non-Null Count  Dtype  \n",
      "---  ------         --------------  -----  \n",
      " 0   Sales_ID       7906 non-null   int64  \n",
      " 1   Name           7906 non-null   object \n",
      " 2   Year           7906 non-null   int64  \n",
      " 3   Selling_Price  7906 non-null   int64  \n",
      " 4   km_Driven      7906 non-null   int64  \n",
      " 5   City_Code      7906 non-null   object \n",
      " 6   State_Code_x   7906 non-null   object \n",
      " 7   Postal_Code    7906 non-null   int64  \n",
      " 8   Fuel           7906 non-null   object \n",
      " 9   Seller_Type    7906 non-null   object \n",
      " 10  Transmission   7906 non-null   object \n",
      " 11  Owner          7906 non-null   object \n",
      " 12  Mileage        7906 non-null   object \n",
      " 13  Engine         7906 non-null   object \n",
      " 14  Max_Power      7906 non-null   object \n",
      " 15  Seats          7906 non-null   int64  \n",
      " 16  Mileage_Float  7906 non-null   float64\n",
      " 17  State_Name     7906 non-null   object \n",
      " 18  City_Name      7906 non-null   object \n",
      " 19  State_Code_y   7906 non-null   object \n",
      "dtypes: float64(1), int64(6), object(13)\n",
      "memory usage: 1.3+ MB\n"
     ]
    }
   ],
   "source": [
    "df_CityData.info()"
   ]
  },
  {
   "cell_type": "code",
   "execution_count": null,
   "id": "05e51b77",
   "metadata": {},
   "outputs": [],
   "source": [
    "City_df"
   ]
  },
  {
   "cell_type": "markdown",
   "id": "bbabf217",
   "metadata": {},
   "source": [
    "# 5. Which factors are more important in deciding car's selling price? Example kms driven or type of owner or fuel type"
   ]
  },
  {
   "cell_type": "code",
   "execution_count": 136,
   "id": "6ad4067e",
   "metadata": {},
   "outputs": [
    {
     "data": {
      "text/html": [
       "<div>\n",
       "<style scoped>\n",
       "    .dataframe tbody tr th:only-of-type {\n",
       "        vertical-align: middle;\n",
       "    }\n",
       "\n",
       "    .dataframe tbody tr th {\n",
       "        vertical-align: top;\n",
       "    }\n",
       "\n",
       "    .dataframe thead th {\n",
       "        text-align: right;\n",
       "    }\n",
       "</style>\n",
       "<table border=\"1\" class=\"dataframe\">\n",
       "  <thead>\n",
       "    <tr style=\"text-align: right;\">\n",
       "      <th></th>\n",
       "      <th>Sales_ID</th>\n",
       "      <th>Year</th>\n",
       "      <th>Selling_Price</th>\n",
       "      <th>km_Driven</th>\n",
       "      <th>Postal_Code</th>\n",
       "      <th>Seats</th>\n",
       "      <th>Mileage_Float</th>\n",
       "    </tr>\n",
       "  </thead>\n",
       "  <tbody>\n",
       "    <tr>\n",
       "      <th>Sales_ID</th>\n",
       "      <td>1.000000</td>\n",
       "      <td>-0.001304</td>\n",
       "      <td>-0.012125</td>\n",
       "      <td>0.009556</td>\n",
       "      <td>-0.010688</td>\n",
       "      <td>-0.014154</td>\n",
       "      <td>0.028627</td>\n",
       "    </tr>\n",
       "    <tr>\n",
       "      <th>Year</th>\n",
       "      <td>-0.001304</td>\n",
       "      <td>1.000000</td>\n",
       "      <td>0.412302</td>\n",
       "      <td>-0.428548</td>\n",
       "      <td>0.004898</td>\n",
       "      <td>-0.007923</td>\n",
       "      <td>0.328544</td>\n",
       "    </tr>\n",
       "    <tr>\n",
       "      <th>Selling_Price</th>\n",
       "      <td>-0.012125</td>\n",
       "      <td>0.412302</td>\n",
       "      <td>1.000000</td>\n",
       "      <td>-0.222158</td>\n",
       "      <td>0.008682</td>\n",
       "      <td>0.041617</td>\n",
       "      <td>-0.126280</td>\n",
       "    </tr>\n",
       "    <tr>\n",
       "      <th>km_Driven</th>\n",
       "      <td>0.009556</td>\n",
       "      <td>-0.428548</td>\n",
       "      <td>-0.222158</td>\n",
       "      <td>1.000000</td>\n",
       "      <td>-0.005680</td>\n",
       "      <td>0.227259</td>\n",
       "      <td>-0.172980</td>\n",
       "    </tr>\n",
       "    <tr>\n",
       "      <th>Postal_Code</th>\n",
       "      <td>-0.010688</td>\n",
       "      <td>0.004898</td>\n",
       "      <td>0.008682</td>\n",
       "      <td>-0.005680</td>\n",
       "      <td>1.000000</td>\n",
       "      <td>-0.004804</td>\n",
       "      <td>-0.009625</td>\n",
       "    </tr>\n",
       "    <tr>\n",
       "      <th>Seats</th>\n",
       "      <td>-0.014154</td>\n",
       "      <td>-0.007923</td>\n",
       "      <td>0.041617</td>\n",
       "      <td>0.227259</td>\n",
       "      <td>-0.004804</td>\n",
       "      <td>1.000000</td>\n",
       "      <td>-0.451700</td>\n",
       "    </tr>\n",
       "    <tr>\n",
       "      <th>Mileage_Float</th>\n",
       "      <td>0.028627</td>\n",
       "      <td>0.328544</td>\n",
       "      <td>-0.126280</td>\n",
       "      <td>-0.172980</td>\n",
       "      <td>-0.009625</td>\n",
       "      <td>-0.451700</td>\n",
       "      <td>1.000000</td>\n",
       "    </tr>\n",
       "  </tbody>\n",
       "</table>\n",
       "</div>"
      ],
      "text/plain": [
       "               Sales_ID      Year  Selling_Price  km_Driven  Postal_Code  \\\n",
       "Sales_ID       1.000000 -0.001304      -0.012125   0.009556    -0.010688   \n",
       "Year          -0.001304  1.000000       0.412302  -0.428548     0.004898   \n",
       "Selling_Price -0.012125  0.412302       1.000000  -0.222158     0.008682   \n",
       "km_Driven      0.009556 -0.428548      -0.222158   1.000000    -0.005680   \n",
       "Postal_Code   -0.010688  0.004898       0.008682  -0.005680     1.000000   \n",
       "Seats         -0.014154 -0.007923       0.041617   0.227259    -0.004804   \n",
       "Mileage_Float  0.028627  0.328544      -0.126280  -0.172980    -0.009625   \n",
       "\n",
       "                  Seats  Mileage_Float  \n",
       "Sales_ID      -0.014154       0.028627  \n",
       "Year          -0.007923       0.328544  \n",
       "Selling_Price  0.041617      -0.126280  \n",
       "km_Driven      0.227259      -0.172980  \n",
       "Postal_Code   -0.004804      -0.009625  \n",
       "Seats          1.000000      -0.451700  \n",
       "Mileage_Float -0.451700       1.000000  "
      ]
     },
     "execution_count": 136,
     "metadata": {},
     "output_type": "execute_result"
    }
   ],
   "source": [
    "df.corr()"
   ]
  },
  {
   "cell_type": "code",
   "execution_count": 137,
   "id": "f357f250",
   "metadata": {},
   "outputs": [
    {
     "data": {
      "text/plain": [
       "<AxesSubplot:>"
      ]
     },
     "execution_count": 137,
     "metadata": {},
     "output_type": "execute_result"
    },
    {
     "data": {
      "image/png": "[encoded data removed]",
      "text/plain": [
       "<Figure size 432x288 with 2 Axes>"
      ]
     },
     "metadata": {
      "needs_background": "light"
     },
     "output_type": "display_data"
    }
   ],
   "source": [
    "sns.heatmap(df.corr(), annot=True)"
   ]
  },
  {
   "cell_type": "markdown",
   "id": "979c92ca",
   "metadata": {},
   "source": [
    "*Year is the most important factor in determining the Selling Price of the car, followed by km_Driven*"
   ]
  },
  {
   "cell_type": "code",
   "execution_count": 151,
   "id": "6ed5a1ce",
   "metadata": {},
   "outputs": [
    {
     "data": {
      "text/plain": [
       "<AxesSubplot:xlabel='Year', ylabel='Selling_Price'>"
      ]
     },
     "execution_count": 151,
     "metadata": {},
     "output_type": "execute_result"
    },
    {
     "data": {
      "image/png": "[encoded data removed]",
      "text/plain": [
       "<Figure size 432x288 with 1 Axes>"
      ]
     },
     "metadata": {
      "needs_background": "light"
     },
     "output_type": "display_data"
    }
   ],
   "source": [
    "df.plot(x='Year', y = 'Selling_Price', kind = 'scatter')"
   ]
  },
  {
   "cell_type": "markdown",
   "id": "26139d4f",
   "metadata": {},
   "source": [
    "### *This scatter plot shows the relationship between year of sale and Selling Price. We can conclude that the Selling Price of cars has generally increased as Years have progressed* "
   ]
  },
  {
   "cell_type": "code",
   "execution_count": 152,
   "id": "42cd4651",
   "metadata": {},
   "outputs": [
    {
     "data": {
      "text/plain": [
       "<AxesSubplot:xlabel='km_Driven', ylabel='Selling_Price'>"
      ]
     },
     "execution_count": 152,
     "metadata": {},
     "output_type": "execute_result"
    },
    {
     "data": {
      "image/png": "[encoded data removed]",
      "text/plain": [
       "<Figure size 432x288 with 1 Axes>"
      ]
     },
     "metadata": {
      "needs_background": "light"
     },
     "output_type": "display_data"
    }
   ],
   "source": [
    "df.plot(x='km_Driven', y = 'Selling_Price', kind = 'scatter')"
   ]
  },
  {
   "cell_type": "markdown",
   "id": "6d4464cd",
   "metadata": {},
   "source": [
    "### *This scatter plot shows the relationship between km_Driven and Selling Price. We can conclude that Selling price generally decreases as the distance travelled increases*"
   ]
  }
 ],
 "metadata": {
  "kernelspec": {
   "display_name": "Python 3 (ipykernel)",
   "language": "python",
   "name": "python3"
  },
  "language_info": {
   "codemirror_mode": {
    "name": "ipython",
    "version": 3
   },
   "file_extension": ".py",
   "mimetype": "text/x-python",
   "name": "python",
   "nbconvert_exporter": "python",
   "pygments_lexer": "ipython3",
   "version": "3.9.12"
  }
 },
 "nbformat": 4,
 "nbformat_minor": 5
}
